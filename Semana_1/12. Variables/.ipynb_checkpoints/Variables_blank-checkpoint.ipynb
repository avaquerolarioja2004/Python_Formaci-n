{
 "cells": [
  {
   "cell_type": "markdown",
   "id": "3c660e9c",
   "metadata": {},
   "source": [
    "# Variables"
   ]
  },
  {
   "cell_type": "markdown",
   "id": "c5676c31",
   "metadata": {},
   "source": [
    "### 1. Variables en Python"
   ]
  },
  {
   "cell_type": "markdown",
   "id": "ed680e4c",
   "metadata": {},
   "source": [
    "Una variable es un elemento de un lenguaje de programación que tiene asignado un valor determinado. Para crear una variable en Python se le debe proporcionar un nombre y asignarle un valor utilizando el símbolo `=`"
   ]
  },
  {
   "cell_type": "code",
   "execution_count": 2,
   "id": "63c7d6d6",
   "metadata": {},
   "outputs": [],
   "source": [
    "var = \"Hola mi loko\""
   ]
  },
  {
   "cell_type": "code",
   "execution_count": 3,
   "id": "9f9a8963",
   "metadata": {},
   "outputs": [
    {
     "name": "stdout",
     "output_type": "stream",
     "text": [
      "Hola mi loko\n"
     ]
    }
   ],
   "source": [
    "print(var)"
   ]
  },
  {
   "cell_type": "markdown",
   "id": "0641abe0",
   "metadata": {},
   "source": [
    "El valor asignado a una variable puede cambiar a lo largo del programa escrito en Python"
   ]
  },
  {
   "cell_type": "code",
   "execution_count": 4,
   "id": "71253ca3",
   "metadata": {},
   "outputs": [],
   "source": [
    "var = \"Esto puede cambiar\""
   ]
  },
  {
   "cell_type": "code",
   "execution_count": 5,
   "id": "ab1f060a",
   "metadata": {},
   "outputs": [
    {
     "name": "stdout",
     "output_type": "stream",
     "text": [
      "Esto puede cambiar\n"
     ]
    }
   ],
   "source": [
    "print(var)"
   ]
  },
  {
   "cell_type": "markdown",
   "id": "a5372a66",
   "metadata": {},
   "source": [
    "### 2. Asignación múltiple"
   ]
  },
  {
   "cell_type": "markdown",
   "id": "973dd136",
   "metadata": {},
   "source": [
    "Otra de las cosas que podemos hacer con las variables en Python es asignar una variable a otra variable diferente."
   ]
  },
  {
   "cell_type": "code",
   "execution_count": 10,
   "id": "c6842e4d",
   "metadata": {},
   "outputs": [],
   "source": [
    "copia=var"
   ]
  },
  {
   "cell_type": "code",
   "execution_count": 14,
   "id": "2805f454",
   "metadata": {},
   "outputs": [
    {
     "name": "stdout",
     "output_type": "stream",
     "text": [
      "Esto puede cambiar - copia\n",
      "Esto puede cambiar\n"
     ]
    }
   ],
   "source": [
    "print(f'{var} - copia')\n",
    "print(copia)"
   ]
  },
  {
   "cell_type": "markdown",
   "id": "73b659fd",
   "metadata": {},
   "source": [
    "En el caso que se acaba de mostrar en las celdas anteriores, la variable `var` y `var2` apuntan a la misma cadena de texto `Hola mundo`"
   ]
  },
  {
   "cell_type": "markdown",
   "id": "e30c86ef",
   "metadata": {},
   "source": [
    "### 3. Sintaxis de las variables en Python"
   ]
  },
  {
   "cell_type": "markdown",
   "id": "0be1b864",
   "metadata": {},
   "source": [
    "Tal y como se ha introducido en la primera sección, para definir variables en Python se debe cumplir con las reglas sintácticas definidas por el leguaje. A continuación se indican las reglas que debemos cumplir cuando definimos el nombre de una variable:"
   ]
  },
  {
   "cell_type": "markdown",
   "id": "e45b51d8",
   "metadata": {},
   "source": [
    "<div style=\"background-color:#D9EEFF;color:black;padding:2%;\">\n",
    "1. Los nombres de las variables en Python pueden tener cualquier longitud y pueden consistir en letras mayúsculas y minúsculas (A-Z, a-z), dígitos (0-9) y el carácter de subrayado (_)\n",
    "</div>"
   ]
  },
  {
   "cell_type": "code",
   "execution_count": 15,
   "id": "7281a5f7",
   "metadata": {},
   "outputs": [],
   "source": [
    "estO_es1Variable=\"Hola, estO_es1Variable\""
   ]
  },
  {
   "cell_type": "code",
   "execution_count": 16,
   "id": "7b68501c",
   "metadata": {},
   "outputs": [
    {
     "name": "stdout",
     "output_type": "stream",
     "text": [
      "Hola, estO_es1Variable\n"
     ]
    }
   ],
   "source": [
    "print(estO_es1Variable)"
   ]
  },
  {
   "cell_type": "markdown",
   "id": "9cd83d5a",
   "metadata": {},
   "source": [
    "Si no se cumple con estas reglas definidas en la sintaxis de Python, el intérprete de Python emitirá un error a la hora de ejecutar la sentencia"
   ]
  },
  {
   "cell_type": "code",
   "execution_count": 17,
   "id": "4d5519cc",
   "metadata": {},
   "outputs": [
    {
     "ename": "SyntaxError",
     "evalue": "invalid syntax (1347192719.py, line 1)",
     "output_type": "error",
     "traceback": [
      "\u001b[1;36m  Cell \u001b[1;32mIn[17], line 1\u001b[1;36m\u001b[0m\n\u001b[1;33m    var$%&=\"variable no valida\"\u001b[0m\n\u001b[1;37m       ^\u001b[0m\n\u001b[1;31mSyntaxError\u001b[0m\u001b[1;31m:\u001b[0m invalid syntax\n"
     ]
    }
   ],
   "source": [
    "var$%&=\"variable no valida\""
   ]
  },
  {
   "cell_type": "markdown",
   "id": "b6812ac7",
   "metadata": {},
   "source": [
    "<div style=\"background-color:#D9EEFF;color:black;padding:2%;\">\n",
    "2. Aunque el nombre de una variable puede contener dígitos, el primer carácter de un nombre de variable no puede ser un dígito.\n",
    "</div>"
   ]
  },
  {
   "cell_type": "code",
   "execution_count": 18,
   "id": "d91e7bc1",
   "metadata": {},
   "outputs": [
    {
     "ename": "SyntaxError",
     "evalue": "invalid decimal literal (3420460956.py, line 1)",
     "output_type": "error",
     "traceback": [
      "\u001b[1;36m  Cell \u001b[1;32mIn[18], line 1\u001b[1;36m\u001b[0m\n\u001b[1;33m    1variable=\"error empieza por digito\"\u001b[0m\n\u001b[1;37m    ^\u001b[0m\n\u001b[1;31mSyntaxError\u001b[0m\u001b[1;31m:\u001b[0m invalid decimal literal\n"
     ]
    }
   ],
   "source": [
    "1variable=\"error empieza por digito\""
   ]
  },
  {
   "cell_type": "markdown",
   "id": "f7e752fa",
   "metadata": {},
   "source": [
    "<div style=\"background-color:#D9EEFF;color:black;padding:2%;\">\n",
    "3. El nombre de las variables en Python es sensible a mayúsculas y minúsculas\n",
    "</div>"
   ]
  },
  {
   "cell_type": "code",
   "execution_count": 20,
   "id": "a26b090b",
   "metadata": {},
   "outputs": [],
   "source": [
    "Var=\"MAYUSCULA\""
   ]
  },
  {
   "cell_type": "code",
   "execution_count": 21,
   "id": "498cf416",
   "metadata": {},
   "outputs": [],
   "source": [
    "var=\"minuscula\""
   ]
  },
  {
   "cell_type": "code",
   "execution_count": 22,
   "id": "3cbf0965",
   "metadata": {},
   "outputs": [
    {
     "name": "stdout",
     "output_type": "stream",
     "text": [
      "minuscula\n",
      "MAYUSCULA\n"
     ]
    }
   ],
   "source": [
    "print(var)\n",
    "print(Var)"
   ]
  }
 ],
 "metadata": {
  "kernelspec": {
   "display_name": "Python 3 (ipykernel)",
   "language": "python",
   "name": "python3"
  },
  "language_info": {
   "codemirror_mode": {
    "name": "ipython",
    "version": 3
   },
   "file_extension": ".py",
   "mimetype": "text/x-python",
   "name": "python",
   "nbconvert_exporter": "python",
   "pygments_lexer": "ipython3",
   "version": "3.11.5"
  }
 },
 "nbformat": 4,
 "nbformat_minor": 5
}
