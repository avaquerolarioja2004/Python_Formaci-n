{
 "cells": [
  {
   "cell_type": "markdown",
   "metadata": {},
   "source": [
    "# Caso Práctico: Implementando una agenda digital"
   ]
  },
  {
   "cell_type": "markdown",
   "metadata": {},
   "source": [
    "### Enunciado y contexto del ejercicio"
   ]
  },
  {
   "cell_type": "markdown",
   "metadata": {},
   "source": [
    "En este ejercicio práctico se propone la implementación de una agenda digital muy simple en la que puedas almacenar y consultar tus contactos.\n",
    "\n",
    "¡Completa todos los apartados que se muestran a continuación para conseguir implementar estas funciones!"
   ]
  },
  {
   "cell_type": "markdown",
   "metadata": {},
   "source": [
    "### 1. Implementa la agenda digital y los contactos"
   ]
  },
  {
   "cell_type": "markdown",
   "metadata": {},
   "source": [
    "Lo primero que debemos hacer para implementar nuestra agenda digital es seleccionar la estructura de datos que va a almacenar los contactos de la misma."
   ]
  },
  {
   "cell_type": "markdown",
   "metadata": {},
   "source": [
    "<div style=\"background-color:#D9EEFF;color:black;padding:2%;\">\n",
    "Crea un diccionario que represente la agenda digital. Dentro de ese diccionario, crea otro diccionario por cada uno de los contactos que quieras almacenar en ella. Los contactos deben tener, al menos, los siguientes atributos: Nombre, dirección, email y teléfono.\n",
    "</div>"
   ]
  },
  {
   "cell_type": "markdown",
   "metadata": {},
   "source": [
    "**Pista:** Utiliza algo característico de cada contacto como clave del primer diccionario, por ejemplo, su nombre completo."
   ]
  },
  {
   "cell_type": "code",
   "execution_count": 17,
   "metadata": {},
   "outputs": [],
   "source": [
    "agenda={\n",
    "    1:{\n",
    "        \"Nombre\":\"Eli\",\n",
    "        \"Apellido\":\"Santolaya\",\n",
    "        \"Dirección\":\"Logroño\",\n",
    "        \"Email\":\"eli@gmail.com\",\n",
    "        \"Telefono\":123456789\n",
    "    },\n",
    "    2:{\n",
    "        \"Nombre\":\"Adi\",\n",
    "        \"Apellido\":\"TTM\",\n",
    "        \"Dirección\":\"Logroño\",\n",
    "        \"Email\":\"adi@gmail.com\",\n",
    "        \"Telefono\":123456789\n",
    "    },\n",
    "    3:{\n",
    "        \"Nombre\":\"JR\",\n",
    "        \"Apellido\":\"KJ\",\n",
    "        \"Dirección\":\"Logroño\",\n",
    "        \"Email\":\"jr@gmail.com\",\n",
    "        \"Telefono\":123456789\n",
    "    }\n",
    "}"
   ]
  },
  {
   "cell_type": "code",
   "execution_count": 18,
   "metadata": {},
   "outputs": [
    {
     "data": {
      "text/plain": [
       "{1: {'Nombre': 'Eli',\n",
       "  'Apellido': 'Santolaya',\n",
       "  'Dirección': 'Logroño',\n",
       "  'Email': 'eli@gmail.com',\n",
       "  'Telefono': 123456789},\n",
       " 2: {'Nombre': 'Adi',\n",
       "  'Apellido': 'TTM',\n",
       "  'Dirección': 'Logroño',\n",
       "  'Email': 'adi@gmail.com',\n",
       "  'Telefono': 123456789},\n",
       " 3: {'Nombre': 'JR',\n",
       "  'Apellido': 'KJ',\n",
       "  'Dirección': 'Logroño',\n",
       "  'Email': 'jr@gmail.com',\n",
       "  'Telefono': 123456789}}"
      ]
     },
     "execution_count": 18,
     "metadata": {},
     "output_type": "execute_result"
    }
   ],
   "source": [
    "agenda"
   ]
  },
  {
   "cell_type": "markdown",
   "metadata": {},
   "source": [
    "### 2. Guarda la agenda digital en un fichero en disco"
   ]
  },
  {
   "cell_type": "markdown",
   "metadata": {},
   "source": [
    "Una vez que hemos implementado nuestra agenda digital en Python, necesitamos establecer un mecanismo para almacenar esta información en disco. De esta manera, la información que almacenemos en la agenda no se perderá cuando finalice la ejecución del programa."
   ]
  },
  {
   "cell_type": "markdown",
   "metadata": {},
   "source": [
    "<div style=\"background-color:#D9EEFF;color:black;padding:2%;\">\n",
    "Implementa una función en Python que permita escribir en disco la agenda digital que has representado en el apartado anterior como un diccionario.\n",
    "</div>"
   ]
  },
  {
   "cell_type": "code",
   "execution_count": 35,
   "metadata": {},
   "outputs": [],
   "source": [
    "import pickle\n",
    "import os\n",
    "\n",
    "def guardar(agenda, nombre_archivo='agenda.pkl'):\n",
    "    # Verificar si el archivo ya existe\n",
    "    if not os.path.exists(nombre_archivo):\n",
    "        # Crear el archivo si no existe\n",
    "        with open(nombre_archivo, 'x'):\n",
    "            pass\n",
    "    with open(nombre_archivo, 'wb') as archivo:\n",
    "        pickle.dump(agenda, archivo)\n",
    "    print(f\"Agenda guardada en {nombre_archivo}\")\n"
   ]
  },
  {
   "cell_type": "code",
   "execution_count": 36,
   "metadata": {
    "scrolled": true
   },
   "outputs": [
    {
     "name": "stdout",
     "output_type": "stream",
     "text": [
      "Agenda guardada en datos.txt\n"
     ]
    }
   ],
   "source": [
    "guardar(agenda,\"datos.txt\")"
   ]
  },
  {
   "cell_type": "markdown",
   "metadata": {},
   "source": [
    "Otra opción"
   ]
  },
  {
   "cell_type": "code",
   "execution_count": 37,
   "metadata": {},
   "outputs": [],
   "source": [
    "def guardar2(agenda):\n",
    "    archivo_nombre = 'datos2.txt'\n",
    "    \n",
    "    # Verificar si el archivo ya existe\n",
    "    if not os.path.exists(archivo_nombre):\n",
    "        # Crear el archivo si no existe\n",
    "        with open(archivo_nombre, 'x'):\n",
    "            pass\n",
    "    \n",
    "    # Abrir el archivo en modo binario 'wb'\n",
    "    with open(archivo_nombre, 'wb') as agenda_fichero:\n",
    "        # Convertir la representación de la agenda a bytes utilizando UTF-8\n",
    "        agenda_str = str(agenda)\n",
    "        agenda_bytes = agenda_str.encode('utf-8')\n",
    "        \n",
    "        # Escribir los bytes en el archivo binario\n",
    "        agenda_fichero.write(agenda_bytes)"
   ]
  },
  {
   "cell_type": "code",
   "execution_count": 38,
   "metadata": {},
   "outputs": [],
   "source": [
    "guardar2(agenda)"
   ]
  },
  {
   "cell_type": "markdown",
   "metadata": {},
   "source": [
    "### 3. Lee la agenda digital de un fichero en disco"
   ]
  },
  {
   "cell_type": "markdown",
   "metadata": {},
   "source": [
    "Ahora que ya hemos definido como va a ser nuestra agenda digital y hemos implementado una función para escribirla en disco y no perder la información que guardamos en ella, lo siguiente que debemos hacer es escribir otra función que nos permita leer ese fichero cada vez que queramos consultar algún contacto."
   ]
  },
  {
   "cell_type": "markdown",
   "metadata": {},
   "source": [
    "<div style=\"background-color:#D9EEFF;color:black;padding:2%;\">\n",
    "Implementa una función en Python que nos permita leer el fichero en el que has escrito la agenda digital y has almacenado en disco en el apartado anterior.\n",
    "</div>"
   ]
  },
  {
   "cell_type": "code",
   "execution_count": 40,
   "metadata": {},
   "outputs": [
    {
     "name": "stdout",
     "output_type": "stream",
     "text": [
      "[\"{1: {'Nombre': 'Eli', 'Apellido': 'Santolaya', 'DirecciÃ³n': 'LogroÃ±o', 'Email': 'eli@gmail.com', 'Telefono': 123456789}, 2: {'Nombre': 'Adi', 'Apellido': 'TTM', 'DirecciÃ³n': 'LogroÃ±o', 'Email': 'adi@gmail.com', 'Telefono': 123456789}, 3: {'Nombre': 'JR', 'Apellido': 'KJ', 'DirecciÃ³n': 'LogroÃ±o', 'Email': 'jr@gmail.com', 'Telefono': 123456789}}\"]\n"
     ]
    }
   ],
   "source": [
    "def leer(archivo):\n",
    "    agenda_digital_lectura= open(archivo,\"r\")\n",
    "    agenda_digital = agenda_digital_lectura.readlines()\n",
    "    agenda_digital_lectura.close()\n",
    "    print(agenda_digital)\n",
    "    \n",
    "leer(\"datos2.txt\")"
   ]
  },
  {
   "cell_type": "markdown",
   "metadata": {},
   "source": [
    "Comprueba la información que se encuentra en la variable `agenda_digital`. \n",
    "* ¿Qué tipo de dato es? \n",
    "* ¿En qué posición se encuentra el diccionario que representa tu agenda? \n",
    "* ¿Qué tipo de dato es este diccionario? ¿Puedes acceder a sus claves?"
   ]
  },
  {
   "cell_type": "code",
   "execution_count": null,
   "metadata": {},
   "outputs": [],
   "source": []
  },
  {
   "cell_type": "code",
   "execution_count": null,
   "metadata": {},
   "outputs": [],
   "source": []
  },
  {
   "cell_type": "code",
   "execution_count": null,
   "metadata": {},
   "outputs": [],
   "source": []
  },
  {
   "cell_type": "code",
   "execution_count": null,
   "metadata": {},
   "outputs": [],
   "source": []
  },
  {
   "cell_type": "markdown",
   "metadata": {},
   "source": [
    "**Pista 3**: Como habrás podido observar, el diccionario que representa nuestra agenda digital, cuando lo hemos leído con la función `open()` a partir del fichero en el que se encontraba almacenado viene representado con tipo `str`. Conviértelo de nuevo en un diciconario, para ello, échale un ojo a la función por defecto de Python `eval()`."
   ]
  },
  {
   "cell_type": "code",
   "execution_count": null,
   "metadata": {},
   "outputs": [],
   "source": []
  },
  {
   "cell_type": "code",
   "execution_count": null,
   "metadata": {},
   "outputs": [],
   "source": []
  },
  {
   "cell_type": "code",
   "execution_count": null,
   "metadata": {},
   "outputs": [],
   "source": []
  },
  {
   "cell_type": "markdown",
   "metadata": {},
   "source": [
    "**Pista 4**: Recuerda que debes escribir una función, te recomiendo que tu función tenga una definición similar a la siguiente:\n",
    "```\n",
    "def leer_agenda(nombre_agenda):\n",
    "    <sentencias que leen la agenda digital de disco>\n",
    "```"
   ]
  },
  {
   "cell_type": "code",
   "execution_count": null,
   "metadata": {},
   "outputs": [],
   "source": []
  },
  {
   "cell_type": "markdown",
   "metadata": {},
   "source": [
    "### 4. Crea un menu para introducir un nombre en la agenda"
   ]
  },
  {
   "cell_type": "markdown",
   "metadata": {},
   "source": [
    "Si has llegado hasta este apartado, ¡enhorabuena! ya has implementado gran parte de la funcionalidad de nuestra agenda digital. Ahora que tenemos funciones para escrbir y leer la agenda de un fichero que se encuentra almacenado en disco, necesitamos una función que nos permita crear nuevos contactos dentro de nuestra agenda."
   ]
  },
  {
   "cell_type": "markdown",
   "metadata": {},
   "source": [
    "<div style=\"background-color:#D9EEFF;color:black;padding:2%;\">\n",
    "Crea una función en Python que solicite los datos de un nuevo contacto de la agenda por pantalla al usuario y cree una nueva entrada en nuestra agenda digital\n",
    "</div>"
   ]
  },
  {
   "cell_type": "markdown",
   "metadata": {},
   "source": [
    "**Pista:** Divide este apartado en dos funciones. En la primera función implementa el código que solicite al usuario por pantalla los campos necesarios para un nuevo contacto de la agenda. En la segunda función, implementa el código necesario para crear este nuevo contacto en la agenda digital. Te recomiendo que las funciones tengan una definición similar a la siguiente:\n",
    "\n",
    "```\n",
    "def solicitar_contacto_agenda():\n",
    "    <sentencias que solicitan los datos de un nuevo contacto>\n",
    "```\n",
    "\n",
    "```\n",
    "def crear_contacto(agenda_digital, nuevo_contacto):\n",
    "    <sentencias que crean el nuevo contacto en la agenda digital>\n",
    "```"
   ]
  },
  {
   "cell_type": "code",
   "execution_count": null,
   "metadata": {},
   "outputs": [],
   "source": []
  },
  {
   "cell_type": "code",
   "execution_count": null,
   "metadata": {},
   "outputs": [],
   "source": []
  },
  {
   "cell_type": "code",
   "execution_count": null,
   "metadata": {},
   "outputs": [],
   "source": []
  },
  {
   "cell_type": "code",
   "execution_count": null,
   "metadata": {},
   "outputs": [],
   "source": []
  },
  {
   "cell_type": "code",
   "execution_count": null,
   "metadata": {},
   "outputs": [],
   "source": []
  },
  {
   "cell_type": "code",
   "execution_count": null,
   "metadata": {},
   "outputs": [],
   "source": []
  },
  {
   "cell_type": "code",
   "execution_count": null,
   "metadata": {},
   "outputs": [],
   "source": []
  },
  {
   "cell_type": "markdown",
   "metadata": {},
   "source": [
    "### 5. Crea un menu para consultar un nombre de la agenda"
   ]
  },
  {
   "cell_type": "markdown",
   "metadata": {},
   "source": [
    "¡Genial! Ya casi hemos terminado. Implementa una funcionalidad más en nuestra agenda que nos permita leer los datos relativos a un contacto existente."
   ]
  },
  {
   "cell_type": "markdown",
   "metadata": {},
   "source": [
    "<div style=\"background-color:#D9EEFF;color:black;padding:2%;\">\n",
    "Implementa una función en Python que solicte por pantalla el nombre completo de un contacto de la agenda y, a partir de ese nombre, nos proporcione el resto de información: dirección, email y teléfono...\n",
    "</div>"
   ]
  },
  {
   "cell_type": "code",
   "execution_count": null,
   "metadata": {},
   "outputs": [],
   "source": []
  },
  {
   "cell_type": "code",
   "execution_count": null,
   "metadata": {},
   "outputs": [],
   "source": []
  },
  {
   "cell_type": "code",
   "execution_count": null,
   "metadata": {},
   "outputs": [],
   "source": []
  },
  {
   "cell_type": "markdown",
   "metadata": {},
   "source": [
    "### 6. Pon todo en común"
   ]
  },
  {
   "cell_type": "markdown",
   "metadata": {},
   "source": [
    "<div style=\"background-color:#D9EEFF;color:black;padding:2%;\">\n",
    "Pon en común todas las funciones que has implementado en las secciones anteriores para mostrar la funcionalidad de tu agenda digital.\n",
    "</div>"
   ]
  },
  {
   "cell_type": "markdown",
   "metadata": {},
   "source": [
    "#### 6.1. Crea un nuevo contacto en la agenda"
   ]
  },
  {
   "cell_type": "markdown",
   "metadata": {},
   "source": [
    "1. Lee la agenda digital de disco\n",
    "2. Solicita los datos de un nuevo contacto por pantalla al usuario\n",
    "3. Crea un nuevo contacto en la agenda digital\n",
    "4. Escribe la agenda resultante en disco"
   ]
  },
  {
   "cell_type": "code",
   "execution_count": null,
   "metadata": {},
   "outputs": [],
   "source": []
  },
  {
   "cell_type": "code",
   "execution_count": null,
   "metadata": {},
   "outputs": [],
   "source": []
  },
  {
   "cell_type": "markdown",
   "metadata": {},
   "source": [
    "#### 6.2. Consulta un contacto existente de la agenda digital"
   ]
  },
  {
   "cell_type": "markdown",
   "metadata": {},
   "source": [
    "1. Lee la agenda digital de disco\n",
    "2. Consulta un contacto existente"
   ]
  },
  {
   "cell_type": "code",
   "execution_count": null,
   "metadata": {},
   "outputs": [],
   "source": []
  },
  {
   "cell_type": "code",
   "execution_count": null,
   "metadata": {},
   "outputs": [],
   "source": []
  },
  {
   "cell_type": "markdown",
   "metadata": {},
   "source": [
    "### 7. Ejecuta el ejercicio en Pycharm"
   ]
  },
  {
   "cell_type": "markdown",
   "metadata": {},
   "source": [
    "¿Encuentras alguna limitación a la hora de ejecutar este ejercicio en otro entorno como Pycharm?"
   ]
  },
  {
   "cell_type": "code",
   "execution_count": null,
   "metadata": {},
   "outputs": [],
   "source": []
  }
 ],
 "metadata": {
  "kernelspec": {
   "display_name": "Python 3 (ipykernel)",
   "language": "python",
   "name": "python3"
  },
  "language_info": {
   "codemirror_mode": {
    "name": "ipython",
    "version": 3
   },
   "file_extension": ".py",
   "mimetype": "text/x-python",
   "name": "python",
   "nbconvert_exporter": "python",
   "pygments_lexer": "ipython3",
   "version": "3.11.5"
  }
 },
 "nbformat": 4,
 "nbformat_minor": 4
}
