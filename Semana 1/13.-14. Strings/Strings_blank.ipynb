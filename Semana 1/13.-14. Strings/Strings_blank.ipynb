{
 "cells": [
  {
   "cell_type": "markdown",
   "id": "c4e108d0",
   "metadata": {},
   "source": [
    "# Strings"
   ]
  },
  {
   "cell_type": "markdown",
   "id": "f0d2b2af",
   "metadata": {},
   "source": [
    "### 1. ¿Qué es un string?"
   ]
  },
  {
   "cell_type": "markdown",
   "id": "c7c9d40a",
   "metadata": {},
   "source": [
    "Un **string** se corresponde con un conjunto de caracteres que forman una cadena de texto.\n",
    "\n",
    "La sintaxis que debemos utilizar para definir strings en Python consiste en situar los caracteres entre `\"` o `'`"
   ]
  },
  {
   "cell_type": "markdown",
   "id": "57d752a1",
   "metadata": {},
   "source": [
    "La flexibilidad de definir string con el caracter `\"` y el caracter `'` nos permite definir cadenas de texto que contienen esos mismos caracteres."
   ]
  },
  {
   "cell_type": "code",
   "execution_count": 14,
   "id": "9da7fbfe",
   "metadata": {},
   "outputs": [],
   "source": [
    "var = \"Texto con \\\"\\\", pero se usaron \\\\, si quieres puedes poner ' sin necesidad de escapar\""
   ]
  },
  {
   "cell_type": "code",
   "execution_count": 15,
   "id": "cebfa650",
   "metadata": {},
   "outputs": [],
   "source": [
    "var2 = 'Texto con \\'\\', pero se usaron \\\\, si quieres puedes poner \" sin necesidad de escapar'"
   ]
  },
  {
   "cell_type": "code",
   "execution_count": 16,
   "id": "363b97fc",
   "metadata": {},
   "outputs": [
    {
     "name": "stdout",
     "output_type": "stream",
     "text": [
      "Texto con \"\", pero se usaron \\, si quieres puedes poner ' sin necesidad de escapar\n"
     ]
    }
   ],
   "source": [
    "print(var)"
   ]
  },
  {
   "cell_type": "code",
   "execution_count": 17,
   "id": "7ddf7d2a",
   "metadata": {},
   "outputs": [
    {
     "name": "stdout",
     "output_type": "stream",
     "text": [
      "Texto con '', pero se usaron \\, si quieres puedes poner \" sin necesidad de escapar\n"
     ]
    }
   ],
   "source": [
    "print(var2)"
   ]
  },
  {
   "cell_type": "markdown",
   "id": "ba0b13d3",
   "metadata": {},
   "source": [
    "### 2. Indexación"
   ]
  },
  {
   "cell_type": "markdown",
   "id": "78067569",
   "metadata": {},
   "source": [
    "En muchos tipos de datos en Python se puede acceder a elementos individuales de un conjunto ordenado de datos directamente mediante un índice numérico o un valor clave. Este proceso se denomina indexación.\n",
    "\n",
    "En Python, las cadenas son secuencias ordenadas de caracteres, y por lo tanto pueden ser indexadas de esta manera. Se puede acceder a los caracteres individuales de una cadena especificando el nombre de la cadena seguido de un número entre corchetes `[]`.\n",
    "\n",
    "El primer carácter de la cadena tiene el índice 0, el siguiente tiene el índice 1, y así sucesivamente. El índice del último carácter será la longitud de la cadena menos uno."
   ]
  },
  {
   "cell_type": "code",
   "execution_count": 18,
   "id": "6791a110",
   "metadata": {},
   "outputs": [],
   "source": [
    "var = \"Valor\""
   ]
  },
  {
   "cell_type": "code",
   "execution_count": 19,
   "id": "c03982d0",
   "metadata": {},
   "outputs": [
    {
     "data": {
      "text/plain": [
       "'V'"
      ]
     },
     "execution_count": 19,
     "metadata": {},
     "output_type": "execute_result"
    }
   ],
   "source": [
    "var[0]"
   ]
  },
  {
   "cell_type": "code",
   "execution_count": 25,
   "id": "15c472ca",
   "metadata": {},
   "outputs": [
    {
     "data": {
      "text/plain": [
       "'a'"
      ]
     },
     "execution_count": 25,
     "metadata": {},
     "output_type": "execute_result"
    }
   ],
   "source": [
    "var[1]"
   ]
  },
  {
   "cell_type": "code",
   "execution_count": 26,
   "id": "ff9af0fb",
   "metadata": {},
   "outputs": [
    {
     "data": {
      "text/plain": [
       "'l'"
      ]
     },
     "execution_count": 26,
     "metadata": {},
     "output_type": "execute_result"
    }
   ],
   "source": [
    "var[2]"
   ]
  },
  {
   "cell_type": "markdown",
   "id": "c3e7337f",
   "metadata": {},
   "source": [
    "Tambien podemos utilizar números negativos para extraer caracteres por el final de la cadena de texto."
   ]
  },
  {
   "cell_type": "code",
   "execution_count": 21,
   "id": "19af872d",
   "metadata": {},
   "outputs": [
    {
     "data": {
      "text/plain": [
       "'o'"
      ]
     },
     "execution_count": 21,
     "metadata": {},
     "output_type": "execute_result"
    }
   ],
   "source": [
    "var[-2]"
   ]
  },
  {
   "cell_type": "code",
   "execution_count": 23,
   "id": "30ff2ae7",
   "metadata": {},
   "outputs": [
    {
     "data": {
      "text/plain": [
       "'r'"
      ]
     },
     "execution_count": 23,
     "metadata": {},
     "output_type": "execute_result"
    }
   ],
   "source": [
    "var[-1]"
   ]
  },
  {
   "cell_type": "markdown",
   "id": "6223e1d3",
   "metadata": {},
   "source": [
    "### 3. Slicing"
   ]
  },
  {
   "cell_type": "markdown",
   "id": "cd23d10e",
   "metadata": {},
   "source": [
    "Python también permite una sintaxis específica de indexación que extrae subcadenas de una cadena de texto, a esto se denomina **slicing**. \n",
    "\n",
    "La sintaxis que se utiliza para extraer una subcadena de una cadena `s` es de la forma `s[m:n]`, esto devuelve la porción de `s` que comienza en la posición `m`, y termina en la posición `n` (sin ser incluido el último caracter)"
   ]
  },
  {
   "cell_type": "code",
   "execution_count": 27,
   "id": "f48fd78c",
   "metadata": {},
   "outputs": [],
   "source": [
    "var = \"Hola Ángel\""
   ]
  },
  {
   "cell_type": "code",
   "execution_count": 28,
   "id": "12abd2d9",
   "metadata": {},
   "outputs": [
    {
     "data": {
      "text/plain": [
       "'Hola'"
      ]
     },
     "execution_count": 28,
     "metadata": {},
     "output_type": "execute_result"
    }
   ],
   "source": [
    "var[0:4]"
   ]
  },
  {
   "cell_type": "code",
   "execution_count": 31,
   "id": "f9cf2e29",
   "metadata": {},
   "outputs": [
    {
     "data": {
      "text/plain": [
       "'Ánge'"
      ]
     },
     "execution_count": 31,
     "metadata": {},
     "output_type": "execute_result"
    }
   ],
   "source": [
    "var[-5:-1] #No lee el último caracter"
   ]
  },
  {
   "cell_type": "markdown",
   "id": "785c19fe",
   "metadata": {},
   "source": [
    "Si no indicamos uno de los números, lee hasta el final."
   ]
  },
  {
   "cell_type": "code",
   "execution_count": 32,
   "id": "6c795e13",
   "metadata": {},
   "outputs": [
    {
     "data": {
      "text/plain": [
       "'Ángel'"
      ]
     },
     "execution_count": 32,
     "metadata": {},
     "output_type": "execute_result"
    }
   ],
   "source": [
    "var[-5:] #Asi se indica hasta el final"
   ]
  },
  {
   "cell_type": "code",
   "execution_count": 33,
   "id": "5a1c08ad",
   "metadata": {},
   "outputs": [
    {
     "data": {
      "text/plain": [
       "'Ángel'"
      ]
     },
     "execution_count": 33,
     "metadata": {},
     "output_type": "execute_result"
    }
   ],
   "source": [
    "var[5:]"
   ]
  },
  {
   "cell_type": "code",
   "execution_count": 35,
   "id": "7d1a0ec4",
   "metadata": {},
   "outputs": [
    {
     "data": {
      "text/plain": [
       "'Hola'"
      ]
     },
     "execution_count": 35,
     "metadata": {},
     "output_type": "execute_result"
    }
   ],
   "source": [
    "var[:4] #Desde el inicio hasta donde le indiques"
   ]
  },
  {
   "cell_type": "markdown",
   "id": "63a6d92f",
   "metadata": {},
   "source": [
    "### 4. Stride"
   ]
  },
  {
   "cell_type": "markdown",
   "id": "298e896e",
   "metadata": {},
   "source": [
    "El stride es otra variante más del slicing. Si se añade un `:` adicional y un tercer índice, se designa una stride, que indica cuantos caracteres saltar hasta obtener el siguiente caracter."
   ]
  },
  {
   "cell_type": "code",
   "execution_count": 37,
   "id": "7fff1c7b",
   "metadata": {},
   "outputs": [],
   "source": [
    "var = \"Ángel Vaquero\""
   ]
  },
  {
   "cell_type": "code",
   "execution_count": 44,
   "id": "66bbc429",
   "metadata": {},
   "outputs": [
    {
     "data": {
      "text/plain": [
       "'ÁglV'"
      ]
     },
     "execution_count": 44,
     "metadata": {},
     "output_type": "execute_result"
    }
   ],
   "source": [
    "var[0:8:2] #Funciona igual que el anterior, pero le indicas cada cuanto hacer una lectura del siguiente valor"
   ]
  },
  {
   "cell_type": "code",
   "execution_count": 45,
   "id": "2c43e888",
   "metadata": {},
   "outputs": [
    {
     "data": {
      "text/plain": [
       "'ÁeV'"
      ]
     },
     "execution_count": 45,
     "metadata": {},
     "output_type": "execute_result"
    }
   ],
   "source": [
    "var[:8:3]"
   ]
  },
  {
   "cell_type": "code",
   "execution_count": 46,
   "id": "837173a2",
   "metadata": {},
   "outputs": [
    {
     "data": {
      "text/plain": [
       "'lae'"
      ]
     },
     "execution_count": 46,
     "metadata": {},
     "output_type": "execute_result"
    }
   ],
   "source": [
    "var[4::3]"
   ]
  },
  {
   "cell_type": "markdown",
   "id": "3a158671",
   "metadata": {},
   "source": [
    "### 5. Modificación de strings"
   ]
  },
  {
   "cell_type": "markdown",
   "id": "47da2882",
   "metadata": {},
   "source": [
    "Un string es un tipo de dato que Python considera **inmutable**, esto quiere decir que no podemos modificar una parte de un string asociada a una variable"
   ]
  },
  {
   "cell_type": "code",
   "execution_count": 47,
   "id": "18c97d93",
   "metadata": {},
   "outputs": [],
   "source": [
    "var = \"Inmutable\""
   ]
  },
  {
   "cell_type": "code",
   "execution_count": 48,
   "id": "35d7b9da",
   "metadata": {},
   "outputs": [
    {
     "data": {
      "text/plain": [
       "'u'"
      ]
     },
     "execution_count": 48,
     "metadata": {},
     "output_type": "execute_result"
    }
   ],
   "source": [
    "var[3]"
   ]
  },
  {
   "cell_type": "code",
   "execution_count": 50,
   "id": "59775e25",
   "metadata": {},
   "outputs": [
    {
     "ename": "TypeError",
     "evalue": "'str' object does not support item assignment",
     "output_type": "error",
     "traceback": [
      "\u001b[1;31m---------------------------------------------------------------------------\u001b[0m",
      "\u001b[1;31mTypeError\u001b[0m                                 Traceback (most recent call last)",
      "Cell \u001b[1;32mIn[50], line 1\u001b[0m\n\u001b[1;32m----> 1\u001b[0m var[\u001b[38;5;241m3\u001b[39m]\u001b[38;5;241m=\u001b[39m\u001b[38;5;124m\"\u001b[39m\u001b[38;5;124me\u001b[39m\u001b[38;5;124m\"\u001b[39m\n",
      "\u001b[1;31mTypeError\u001b[0m: 'str' object does not support item assignment"
     ]
    }
   ],
   "source": [
    "var[3]=\"e\""
   ]
  },
  {
   "cell_type": "markdown",
   "id": "62715627",
   "metadata": {},
   "source": [
    "A pesar de que no pueda modificarse el contenido de un string, si puede asignarse un string diferente a la variable."
   ]
  },
  {
   "cell_type": "code",
   "execution_count": 51,
   "id": "acae422a",
   "metadata": {},
   "outputs": [
    {
     "name": "stdout",
     "output_type": "stream",
     "text": [
      "otra cosa\n"
     ]
    }
   ],
   "source": [
    "var=\"otra cosa\"\n",
    "print(var)"
   ]
  },
  {
   "cell_type": "markdown",
   "id": "ad24948e",
   "metadata": {},
   "source": [
    "### 6. Strings de múltiples líneas"
   ]
  },
  {
   "cell_type": "markdown",
   "id": "2cbb3939",
   "metadata": {},
   "source": [
    "En algunas ocasiones es posible que queramos definir un string que tenga múltiples líneas. Existen varias formas de definir esto en Python."
   ]
  },
  {
   "cell_type": "markdown",
   "id": "42516a03",
   "metadata": {},
   "source": [
    "La forma más sencilla es introducir el caracter `\\n` en la posición de la cadena de texto donde queremos que se produzca el salto de línea."
   ]
  },
  {
   "cell_type": "code",
   "execution_count": 52,
   "id": "324cb859",
   "metadata": {},
   "outputs": [],
   "source": [
    "var = \"+Hola\\n-Hola\\n+¿Quien eres?\""
   ]
  },
  {
   "cell_type": "code",
   "execution_count": 53,
   "id": "f253c4d6",
   "metadata": {},
   "outputs": [
    {
     "name": "stdout",
     "output_type": "stream",
     "text": [
      "+Hola\n",
      "-Hola\n",
      "+¿Quien eres?\n"
     ]
    }
   ],
   "source": [
    "print(var)"
   ]
  },
  {
   "cell_type": "markdown",
   "id": "335e155f",
   "metadata": {},
   "source": [
    "Otra opción interesante es situar nuestra cadena de texto entre los caracteres ```\"\"\"```."
   ]
  },
  {
   "cell_type": "code",
   "execution_count": 58,
   "id": "704d22d9",
   "metadata": {},
   "outputs": [],
   "source": [
    "var = \"\"\"+Hola\n",
    "-Adios\"\"\""
   ]
  },
  {
   "cell_type": "code",
   "execution_count": 59,
   "id": "cce08c72",
   "metadata": {
    "scrolled": true
   },
   "outputs": [
    {
     "name": "stdout",
     "output_type": "stream",
     "text": [
      "+Hola\n",
      "-Adios\n"
     ]
    }
   ],
   "source": [
    "print(var)"
   ]
  }
 ],
 "metadata": {
  "kernelspec": {
   "display_name": "Python 3 (ipykernel)",
   "language": "python",
   "name": "python3"
  },
  "language_info": {
   "codemirror_mode": {
    "name": "ipython",
    "version": 3
   },
   "file_extension": ".py",
   "mimetype": "text/x-python",
   "name": "python",
   "nbconvert_exporter": "python",
   "pygments_lexer": "ipython3",
   "version": "3.11.5"
  }
 },
 "nbformat": 4,
 "nbformat_minor": 5
}
