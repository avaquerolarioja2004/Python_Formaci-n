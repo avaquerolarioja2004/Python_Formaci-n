{
 "cells": [
  {
   "cell_type": "markdown",
   "metadata": {},
   "source": [
    "# Caso Práctico: Programando nuestra primera aplicación"
   ]
  },
  {
   "cell_type": "markdown",
   "metadata": {},
   "source": [
    "### Enunciado y contexto del ejercicio"
   ]
  },
  {
   "cell_type": "markdown",
   "metadata": {},
   "source": [
    "Uno de los mecanismos más utilizados para verificar la integridad de la información son las funciones **hash**. Una función hash recibe como argumento un objeto, en este caso, una cadena de texto de longitud variable, y nos devuelve un número entero de longitud fija que identifica de manera unívoca el contenido de la cadena de texto. En el caso de que cambie cualquier carácter de la cadena de texto, el valor que proporcionará la función hash será completamente distinto.\n",
    "\n",
    "Cuando nosotros mandamos un mensaje de texto a otra persona, podemos garantizar que el mensaje no ha sido modificado en tránsito si añadimos junto con el mensaje el resultado de una función hash. De esta manera, cuando el mensaje sea recibido por el receptor, puede utilizar la misma función hash para comprobar que el resultado que le proporciona es el mismo que el que nosotros hemos añadido. En caso contrario, el mensaje habrá sido modificado en tránsito.\n",
    "\n",
    "**En este ejercicio práctico se propone la creación de una sencilla aplicación en Python que nos ayude a verificar la integridad de un mensaje calculando la función hash de una cadena de texto que el usuario le proporcione.**\n",
    "\n",
    "¡Completa todos los apartados que se muestran a continuación para conseguir construir la aplicación!"
   ]
  },
  {
   "cell_type": "markdown",
   "metadata": {},
   "source": [
    "### 1. Cabecera de la aplicación"
   ]
  },
  {
   "cell_type": "markdown",
   "metadata": {},
   "source": [
    "Cuando creamos una aplicación de consola de comandos, una de las cosas interesantes es añair una cabecera donde se indique el título de la aplicación y el creador."
   ]
  },
  {
   "cell_type": "markdown",
   "metadata": {},
   "source": [
    "<div style=\"background-color:#D9EEFF;color:black;padding:2%;\">\n",
    "Crea una función en Python que saque por pantalla el título de tu aplicación y el nombre de su creador.\n",
    "\n",
    "Como consejo personal, cuando yo programo aplicaciones de consola de comandos, me gusta utilizar ASCII Art para la cabecera, ¡te dejo por aquí una referencia! https://patorjk.com/software/taag/#p=testall&f=ANSI%20Shadow&t=Titulo\n",
    "</div>"
   ]
  },
  {
   "cell_type": "markdown",
   "metadata": {},
   "source": [
    "**Pista:** Es posible que te resulte de interés utilizar un String multilínea para definir el texto de tu cabecera."
   ]
  },
  {
   "cell_type": "code",
   "execution_count": 15,
   "metadata": {},
   "outputs": [
    {
     "name": "stdout",
     "output_type": "stream",
     "text": [
      "\n",
      "  /$$$$$$                                      /$$$$$$$                                /$$     /$$                    \n",
      " /$$__  $$                                    | $$__  $$                              | $$    |__/                    \n",
      "| $$  \\__/  /$$$$$$   /$$$$$$$  /$$$$$$       | $$  \\ $$ /$$$$$$  /$$$$$$   /$$$$$$$ /$$$$$$   /$$  /$$$$$$$  /$$$$$$ \n",
      "| $$       |____  $$ /$$_____/ /$$__  $$      | $$$$$$$//$$__  $$|____  $$ /$$_____/|_  $$_/  | $$ /$$_____/ /$$__  $$\n",
      "| $$        /$$$$$$$|  $$$$$$ | $$  \\ $$      | $$____/| $$  \\__/ /$$$$$$$| $$        | $$    | $$| $$      | $$  \\ $$\n",
      "| $$    $$ /$$__  $$ \\____  $$| $$  | $$      | $$     | $$      /$$__  $$| $$        | $$ /$$| $$| $$      | $$  | $$\n",
      "|  $$$$$$/|  $$$$$$$ /$$$$$$$/|  $$$$$$/      | $$     | $$     |  $$$$$$$|  $$$$$$$  |  $$$$/| $$|  $$$$$$$|  $$$$$$/\n",
      " \\______/  \\_______/|_______/  \\______/       |__/     |__/      \\_______/ \\_______/   \\___/  |__/ \\_______/ \\______/ \n",
      "                                                                                                                      \n",
      "                                                                                                                      \n",
      "                                                                                                                      \n",
      "                                                                                                                      \n",
      "                                                                                                                      \n",
      "                                                                                                                      \n",
      "                                                                                                                      \n",
      "                                                                                                                      \n",
      "                                                                                                                      \n",
      "                                                                                                                      \n",
      "                                                                                                                      \n",
      "                                                                                                                      \n",
      "                                                                                                                      \n",
      "                                                                                                                      \n",
      "  /$$$$$$                                /$$       /$$    /$$ /$$$$$$$$                                               \n",
      " /$$__  $$                              | $$      | $$   | $$|__  $$__/                                               \n",
      "| $$  \\ $$ /$$$$$$$   /$$$$$$   /$$$$$$ | $$      | $$   | $$   | $$                                                  \n",
      "| $$$$$$$$| $$__  $$ /$$__  $$ /$$__  $$| $$      |  $$ / $$/   | $$                                                  \n",
      "| $$__  $$| $$  \\ $$| $$  \\ $$| $$$$$$$$| $$       \\  $$ $$/    | $$                                                  \n",
      "| $$  | $$| $$  | $$| $$  | $$| $$_____/| $$        \\  $$$/     | $$                                                  \n",
      "| $$  | $$| $$  | $$|  $$$$$$$|  $$$$$$$| $$         \\  $//$$   | $$ /$$                                              \n",
      "|__/  |__/|__/  |__/ \\____  $$ \\_______/|__/          \\_/|__/   |__/|__/                                              \n",
      "                     /$$  \\ $$                                                                                        \n",
      "                    |  $$$$$$/                                                                                        \n",
      "                     \\______/                                                                                         \n",
      "\n"
     ]
    }
   ],
   "source": [
    "def cabecera():\n",
    "    cabecera=\"\"\"\n",
    "  /$$$$$$                                      /$$$$$$$                                /$$     /$$                    \n",
    " /$$__  $$                                    | $$__  $$                              | $$    |__/                    \n",
    "| $$  \\__/  /$$$$$$   /$$$$$$$  /$$$$$$       | $$  \\ $$ /$$$$$$  /$$$$$$   /$$$$$$$ /$$$$$$   /$$  /$$$$$$$  /$$$$$$ \n",
    "| $$       |____  $$ /$$_____/ /$$__  $$      | $$$$$$$//$$__  $$|____  $$ /$$_____/|_  $$_/  | $$ /$$_____/ /$$__  $$\n",
    "| $$        /$$$$$$$|  $$$$$$ | $$  \\ $$      | $$____/| $$  \\__/ /$$$$$$$| $$        | $$    | $$| $$      | $$  \\ $$\n",
    "| $$    $$ /$$__  $$ \\____  $$| $$  | $$      | $$     | $$      /$$__  $$| $$        | $$ /$$| $$| $$      | $$  | $$\n",
    "|  $$$$$$/|  $$$$$$$ /$$$$$$$/|  $$$$$$/      | $$     | $$     |  $$$$$$$|  $$$$$$$  |  $$$$/| $$|  $$$$$$$|  $$$$$$/\n",
    " \\______/  \\_______/|_______/  \\______/       |__/     |__/      \\_______/ \\_______/   \\___/  |__/ \\_______/ \\______/ \n",
    "                                                                                                                      \n",
    "                                                                                                                      \n",
    "                                                                                                                      \n",
    "                                                                                                                      \n",
    "                                                                                                                      \n",
    "                                                                                                                      \n",
    "                                                                                                                      \n",
    "                                                                                                                      \n",
    "                                                                                                                      \n",
    "                                                                                                                      \n",
    "                                                                                                                      \n",
    "                                                                                                                      \n",
    "                                                                                                                      \n",
    "                                                                                                                      \n",
    "  /$$$$$$                                /$$       /$$    /$$ /$$$$$$$$                                               \n",
    " /$$__  $$                              | $$      | $$   | $$|__  $$__/                                               \n",
    "| $$  \\ $$ /$$$$$$$   /$$$$$$   /$$$$$$ | $$      | $$   | $$   | $$                                                  \n",
    "| $$$$$$$$| $$__  $$ /$$__  $$ /$$__  $$| $$      |  $$ / $$/   | $$                                                  \n",
    "| $$__  $$| $$  \\ $$| $$  \\ $$| $$$$$$$$| $$       \\  $$ $$/    | $$                                                  \n",
    "| $$  | $$| $$  | $$| $$  | $$| $$_____/| $$        \\  $$$/     | $$                                                  \n",
    "| $$  | $$| $$  | $$|  $$$$$$$|  $$$$$$$| $$         \\  $//$$   | $$ /$$                                              \n",
    "|__/  |__/|__/  |__/ \\____  $$ \\_______/|__/          \\_/|__/   |__/|__/                                              \n",
    "                     /$$  \\ $$                                                                                        \n",
    "                    |  $$$$$$/                                                                                        \n",
    "                     \\______/                                                                                         \n",
    "\"\"\"\n",
    "    print(cabecera)\n",
    "    \n",
    "cabecera()"
   ]
  },
  {
   "cell_type": "markdown",
   "metadata": {},
   "source": [
    "### 2. Calculando el hash de una cadena de texto"
   ]
  },
  {
   "cell_type": "markdown",
   "metadata": {},
   "source": [
    "¡Muy bien! Una vez que has decidido un nombre para tu aplicación y has creado una función que saca por pantalla su cabecera, es el momento de implementar su funcionalidad."
   ]
  },
  {
   "cell_type": "markdown",
   "metadata": {},
   "source": [
    "<div style=\"background-color:#D9EEFF;color:black;padding:2%;\">\n",
    "Utiliza una función en Python para calcular el hash de una cadena de texto. Revisa las funciones que vienen implementadas por defecto en Python 3, quizás alguna de ellas puede servirte para calcular el hash de una cadena de texto. ¡Te dejo por aquí una referencia a las funciones para que les eches un ojo! https://docs.python.org/3/library/functions.html#built-in-functions\n",
    "</div>"
   ]
  },
  {
   "cell_type": "code",
   "execution_count": 5,
   "metadata": {},
   "outputs": [
    {
     "data": {
      "text/plain": [
       "-4056887224213283775"
      ]
     },
     "execution_count": 5,
     "metadata": {},
     "output_type": "execute_result"
    }
   ],
   "source": [
    "hash(cabecera)"
   ]
  },
  {
   "cell_type": "markdown",
   "metadata": {},
   "source": [
    "### 3. Solicitando al usuario una cadena de texto"
   ]
  },
  {
   "cell_type": "markdown",
   "metadata": {},
   "source": [
    "¡Estupendo! Ya tienes gran parte de tu aplicación implementada. Lo siguiente que debes implementar es un mecanismo para poner mensajes de los usuarios."
   ]
  },
  {
   "cell_type": "markdown",
   "metadata": {},
   "source": [
    "<div style=\"background-color:#D9EEFF;color:black;padding:2%;\">\n",
    "Utiliza una función en Python para recibir cadenas de texto de los usuarios de manera interactiva. Revisa las funciones que vienen implementadas por defecto en Python 3, quizás alguna de ellas puede servirte para obtener input de los usuarios. ¡Te dejo por aquí una referencia a las funciones para que les eches un ojo! https://docs.python.org/3/library/functions.html#built-in-functions\n",
    "</div>"
   ]
  },
  {
   "cell_type": "code",
   "execution_count": 9,
   "metadata": {},
   "outputs": [
    {
     "name": "stdout",
     "output_type": "stream",
     "text": [
      "Deme una cadena de texto no quiero gracias ;)\n",
      "no quiero gracias ;)\n"
     ]
    }
   ],
   "source": [
    "text_from_user=input(\"Deme una cadena de texto \")\n",
    "\n",
    "print(text_from_user)"
   ]
  },
  {
   "cell_type": "markdown",
   "metadata": {},
   "source": [
    "### 4. Construye la aplicación final"
   ]
  },
  {
   "cell_type": "markdown",
   "metadata": {},
   "source": [
    "¡Enhorabuena! Ya tienes listos todos los componentes que necesitas para construir la aplicación final utilizando Python 3."
   ]
  },
  {
   "cell_type": "markdown",
   "metadata": {},
   "source": [
    "<div style=\"background-color:#D9EEFF;color:black;padding:2%;\">\n",
    "Pon en común todo lo que has implementado en las secciones anteriores y construye la aplicación final.\n",
    "</div>"
   ]
  },
  {
   "cell_type": "code",
   "execution_count": 16,
   "metadata": {},
   "outputs": [
    {
     "name": "stdout",
     "output_type": "stream",
     "text": [
      "\n",
      "  /$$$$$$                                      /$$$$$$$                                /$$     /$$                    \n",
      " /$$__  $$                                    | $$__  $$                              | $$    |__/                    \n",
      "| $$  \\__/  /$$$$$$   /$$$$$$$  /$$$$$$       | $$  \\ $$ /$$$$$$  /$$$$$$   /$$$$$$$ /$$$$$$   /$$  /$$$$$$$  /$$$$$$ \n",
      "| $$       |____  $$ /$$_____/ /$$__  $$      | $$$$$$$//$$__  $$|____  $$ /$$_____/|_  $$_/  | $$ /$$_____/ /$$__  $$\n",
      "| $$        /$$$$$$$|  $$$$$$ | $$  \\ $$      | $$____/| $$  \\__/ /$$$$$$$| $$        | $$    | $$| $$      | $$  \\ $$\n",
      "| $$    $$ /$$__  $$ \\____  $$| $$  | $$      | $$     | $$      /$$__  $$| $$        | $$ /$$| $$| $$      | $$  | $$\n",
      "|  $$$$$$/|  $$$$$$$ /$$$$$$$/|  $$$$$$/      | $$     | $$     |  $$$$$$$|  $$$$$$$  |  $$$$/| $$|  $$$$$$$|  $$$$$$/\n",
      " \\______/  \\_______/|_______/  \\______/       |__/     |__/      \\_______/ \\_______/   \\___/  |__/ \\_______/ \\______/ \n",
      "                                                                                                                      \n",
      "                                                                                                                      \n",
      "                                                                                                                      \n",
      "                                                                                                                      \n",
      "                                                                                                                      \n",
      "                                                                                                                      \n",
      "                                                                                                                      \n",
      "                                                                                                                      \n",
      "                                                                                                                      \n",
      "                                                                                                                      \n",
      "                                                                                                                      \n",
      "                                                                                                                      \n",
      "                                                                                                                      \n",
      "                                                                                                                      \n",
      "  /$$$$$$                                /$$       /$$    /$$ /$$$$$$$$                                               \n",
      " /$$__  $$                              | $$      | $$   | $$|__  $$__/                                               \n",
      "| $$  \\ $$ /$$$$$$$   /$$$$$$   /$$$$$$ | $$      | $$   | $$   | $$                                                  \n",
      "| $$$$$$$$| $$__  $$ /$$__  $$ /$$__  $$| $$      |  $$ / $$/   | $$                                                  \n",
      "| $$__  $$| $$  \\ $$| $$  \\ $$| $$$$$$$$| $$       \\  $$ $$/    | $$                                                  \n",
      "| $$  | $$| $$  | $$| $$  | $$| $$_____/| $$        \\  $$$/     | $$                                                  \n",
      "| $$  | $$| $$  | $$|  $$$$$$$|  $$$$$$$| $$         \\  $//$$   | $$ /$$                                              \n",
      "|__/  |__/|__/  |__/ \\____  $$ \\_______/|__/          \\_/|__/   |__/|__/                                              \n",
      "                     /$$  \\ $$                                                                                        \n",
      "                    |  $$$$$$/                                                                                        \n",
      "                     \\______/                                                                                         \n",
      "\n",
      "Deme una cadena de texto: sd\n",
      "Hash del texto 'sd': 3883153179177550435\n"
     ]
    }
   ],
   "source": [
    "def mostrar_hash(texto):\n",
    "    return hash(texto)\n",
    "\n",
    "def main():\n",
    "    cabecera()\n",
    "    texto=input(\"Deme una cadena de texto: \")\n",
    "    hash_del_texto=mostrar_hash(texto)\n",
    "    print(f\"Hash del texto '{texto}': {hash_del_texto}\")\n",
    "    \n",
    "main()"
   ]
  },
  {
   "cell_type": "markdown",
   "metadata": {},
   "source": [
    "### 5. Ejecuta la aplicación con PyCharm y con una consola de comandos"
   ]
  },
  {
   "cell_type": "markdown",
   "metadata": {},
   "source": [
    "<div style=\"background-color:#D9EEFF;color:black;padding:2%;\">\n",
    "Para terminar con el ejercicio, crea un nuevo proyecto en PyCharm, copia el código que has desarrollado y ejecútalo con PyCharm y una consola de comandos de tu sistema operativo.\n",
    "</div>"
   ]
  },
  {
   "cell_type": "markdown",
   "metadata": {},
   "source": [
    "<div style=\"background-color:#FFD9D9;color:black;padding:2%;\">\n",
    "Cuando ejecutes la aplicación fuera de Jupyter Notebook, es posible que el valor hash que te proporcione tu aplicación varíe con cada ejecución a pesar de introducir la misma cadena de texto. Esto es debido a un detalle de implementación de esta función de Python, en la que se usa una semilla aleatoria para calcular el valor del hash. Más información: https://stackoverflow.com/a/27522708\n",
    "</div>"
   ]
  },
  {
   "cell_type": "markdown",
   "metadata": {},
   "source": [
    "Me voy a PyCharm y pego el codigo, lo ejecuto, luego abro Anaconda, abro la terminal desde el enviroment relacionado con el proyecto de pycharm y hago 'python C:\\Users\\angel.vaquero\\PycharmProjects\\testProject\\test.py'"
   ]
  }
 ],
 "metadata": {
  "kernelspec": {
   "display_name": "Python 3 (ipykernel)",
   "language": "python",
   "name": "python3"
  },
  "language_info": {
   "codemirror_mode": {
    "name": "ipython",
    "version": 3
   },
   "file_extension": ".py",
   "mimetype": "text/x-python",
   "name": "python",
   "nbconvert_exporter": "python",
   "pygments_lexer": "ipython3",
   "version": "3.11.5"
  }
 },
 "nbformat": 4,
 "nbformat_minor": 4
}
