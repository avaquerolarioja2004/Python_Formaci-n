{
 "cells": [
  {
   "cell_type": "markdown",
   "id": "2e599e44",
   "metadata": {},
   "source": [
    "# Trabajando con Strings"
   ]
  },
  {
   "cell_type": "markdown",
   "id": "75b4a3e9",
   "metadata": {},
   "source": [
    "Como hemos visto en el tema anterior, todos los tipos de datos que definimos en Python son objetos, y como consecuencia de esto, tienen varios métodos y atributos interesantes que debemos conocer."
   ]
  },
  {
   "cell_type": "code",
   "execution_count": 1,
   "id": "87201ec7",
   "metadata": {},
   "outputs": [
    {
     "data": {
      "text/plain": [
       "['__add__',\n",
       " '__class__',\n",
       " '__contains__',\n",
       " '__delattr__',\n",
       " '__dir__',\n",
       " '__doc__',\n",
       " '__eq__',\n",
       " '__format__',\n",
       " '__ge__',\n",
       " '__getattribute__',\n",
       " '__getitem__',\n",
       " '__getnewargs__',\n",
       " '__getstate__',\n",
       " '__gt__',\n",
       " '__hash__',\n",
       " '__init__',\n",
       " '__init_subclass__',\n",
       " '__iter__',\n",
       " '__le__',\n",
       " '__len__',\n",
       " '__lt__',\n",
       " '__mod__',\n",
       " '__mul__',\n",
       " '__ne__',\n",
       " '__new__',\n",
       " '__reduce__',\n",
       " '__reduce_ex__',\n",
       " '__repr__',\n",
       " '__rmod__',\n",
       " '__rmul__',\n",
       " '__setattr__',\n",
       " '__sizeof__',\n",
       " '__str__',\n",
       " '__subclasshook__',\n",
       " 'capitalize',\n",
       " 'casefold',\n",
       " 'center',\n",
       " 'count',\n",
       " 'encode',\n",
       " 'endswith',\n",
       " 'expandtabs',\n",
       " 'find',\n",
       " 'format',\n",
       " 'format_map',\n",
       " 'index',\n",
       " 'isalnum',\n",
       " 'isalpha',\n",
       " 'isascii',\n",
       " 'isdecimal',\n",
       " 'isdigit',\n",
       " 'isidentifier',\n",
       " 'islower',\n",
       " 'isnumeric',\n",
       " 'isprintable',\n",
       " 'isspace',\n",
       " 'istitle',\n",
       " 'isupper',\n",
       " 'join',\n",
       " 'ljust',\n",
       " 'lower',\n",
       " 'lstrip',\n",
       " 'maketrans',\n",
       " 'partition',\n",
       " 'removeprefix',\n",
       " 'removesuffix',\n",
       " 'replace',\n",
       " 'rfind',\n",
       " 'rindex',\n",
       " 'rjust',\n",
       " 'rpartition',\n",
       " 'rsplit',\n",
       " 'rstrip',\n",
       " 'split',\n",
       " 'splitlines',\n",
       " 'startswith',\n",
       " 'strip',\n",
       " 'swapcase',\n",
       " 'title',\n",
       " 'translate',\n",
       " 'upper',\n",
       " 'zfill']"
      ]
     },
     "execution_count": 1,
     "metadata": {},
     "output_type": "execute_result"
    }
   ],
   "source": [
    "dir(str)"
   ]
  },
  {
   "cell_type": "code",
   "execution_count": null,
   "id": "a42d512e",
   "metadata": {},
   "outputs": [],
   "source": []
  },
  {
   "cell_type": "markdown",
   "id": "a3f7eb9d",
   "metadata": {},
   "source": [
    "### 1. Transformaciones entre letras mayúsculas y minúsculas"
   ]
  },
  {
   "cell_type": "code",
   "execution_count": 10,
   "id": "a151c71a",
   "metadata": {},
   "outputs": [],
   "source": [
    "texto=\"hOlA munDO\""
   ]
  },
  {
   "cell_type": "code",
   "execution_count": 11,
   "id": "52a59347",
   "metadata": {},
   "outputs": [
    {
     "data": {
      "text/plain": [
       "'Hola mundo'"
      ]
     },
     "execution_count": 11,
     "metadata": {},
     "output_type": "execute_result"
    }
   ],
   "source": [
    "texto.capitalize()"
   ]
  },
  {
   "cell_type": "code",
   "execution_count": 12,
   "id": "0617ed1a",
   "metadata": {},
   "outputs": [
    {
     "data": {
      "text/plain": [
       "'hOlA munDO'"
      ]
     },
     "execution_count": 12,
     "metadata": {},
     "output_type": "execute_result"
    }
   ],
   "source": [
    "texto"
   ]
  },
  {
   "cell_type": "code",
   "execution_count": 13,
   "id": "c69630cc",
   "metadata": {},
   "outputs": [],
   "source": [
    "texto=texto.capitalize()"
   ]
  },
  {
   "cell_type": "code",
   "execution_count": 14,
   "id": "232d08ed",
   "metadata": {},
   "outputs": [
    {
     "data": {
      "text/plain": [
       "'Hola mundo'"
      ]
     },
     "execution_count": 14,
     "metadata": {},
     "output_type": "execute_result"
    }
   ],
   "source": [
    "texto"
   ]
  },
  {
   "cell_type": "code",
   "execution_count": 15,
   "id": "428378f7",
   "metadata": {},
   "outputs": [
    {
     "data": {
      "text/plain": [
       "'hola mundo'"
      ]
     },
     "execution_count": 15,
     "metadata": {},
     "output_type": "execute_result"
    }
   ],
   "source": [
    "texto.lower()"
   ]
  },
  {
   "cell_type": "code",
   "execution_count": 16,
   "id": "65e3df74",
   "metadata": {},
   "outputs": [
    {
     "data": {
      "text/plain": [
       "'HOLA MUNDO'"
      ]
     },
     "execution_count": 16,
     "metadata": {},
     "output_type": "execute_result"
    }
   ],
   "source": [
    "texto.upper()"
   ]
  },
  {
   "cell_type": "code",
   "execution_count": 18,
   "id": "d0ba324f",
   "metadata": {},
   "outputs": [
    {
     "data": {
      "text/plain": [
       "'Hola Mundo'"
      ]
     },
     "execution_count": 18,
     "metadata": {},
     "output_type": "execute_result"
    }
   ],
   "source": [
    "texto.title()"
   ]
  },
  {
   "cell_type": "code",
   "execution_count": 19,
   "id": "11fdee49",
   "metadata": {},
   "outputs": [
    {
     "data": {
      "text/plain": [
       "'hOLA MUNDO'"
      ]
     },
     "execution_count": 19,
     "metadata": {},
     "output_type": "execute_result"
    }
   ],
   "source": [
    "texto.swapcase()"
   ]
  },
  {
   "cell_type": "code",
   "execution_count": 20,
   "id": "428a6243",
   "metadata": {},
   "outputs": [
    {
     "data": {
      "text/plain": [
       "False"
      ]
     },
     "execution_count": 20,
     "metadata": {},
     "output_type": "execute_result"
    }
   ],
   "source": [
    "\"COLOR\"==\"color\""
   ]
  },
  {
   "cell_type": "code",
   "execution_count": 22,
   "id": "86fdb9ca",
   "metadata": {},
   "outputs": [
    {
     "data": {
      "text/plain": [
       "True"
      ]
     },
     "execution_count": 22,
     "metadata": {},
     "output_type": "execute_result"
    }
   ],
   "source": [
    "\"COLOR\".lower()==\"color\""
   ]
  },
  {
   "cell_type": "markdown",
   "id": "2c794f19",
   "metadata": {},
   "source": [
    "### 2. Buscar y reemplazar "
   ]
  },
  {
   "cell_type": "code",
   "execution_count": 29,
   "id": "0220a6b9",
   "metadata": {},
   "outputs": [],
   "source": [
    "texto=\"aoo boo coo boo\""
   ]
  },
  {
   "cell_type": "code",
   "execution_count": 30,
   "id": "fb5ae7b6",
   "metadata": {},
   "outputs": [
    {
     "data": {
      "text/plain": [
       "1"
      ]
     },
     "execution_count": 30,
     "metadata": {},
     "output_type": "execute_result"
    }
   ],
   "source": [
    "texto.count(\"aoo\")"
   ]
  },
  {
   "cell_type": "code",
   "execution_count": 31,
   "id": "c6f9719d",
   "metadata": {},
   "outputs": [
    {
     "data": {
      "text/plain": [
       "4"
      ]
     },
     "execution_count": 31,
     "metadata": {},
     "output_type": "execute_result"
    }
   ],
   "source": [
    "texto.find(\"boo\")"
   ]
  },
  {
   "cell_type": "code",
   "execution_count": 32,
   "id": "1de0fc04",
   "metadata": {},
   "outputs": [
    {
     "data": {
      "text/plain": [
       "'boo'"
      ]
     },
     "execution_count": 32,
     "metadata": {},
     "output_type": "execute_result"
    }
   ],
   "source": [
    "texto[texto.find(\"boo\"):texto.find(\"boo\")+len('boo')]"
   ]
  },
  {
   "cell_type": "code",
   "execution_count": 33,
   "id": "7145b694",
   "metadata": {},
   "outputs": [
    {
     "data": {
      "text/plain": [
       "12"
      ]
     },
     "execution_count": 33,
     "metadata": {},
     "output_type": "execute_result"
    }
   ],
   "source": [
    "texto.rfind(\"boo\")"
   ]
  },
  {
   "cell_type": "code",
   "execution_count": 34,
   "id": "ea239928",
   "metadata": {},
   "outputs": [
    {
     "data": {
      "text/plain": [
       "'boo'"
      ]
     },
     "execution_count": 34,
     "metadata": {},
     "output_type": "execute_result"
    }
   ],
   "source": [
    "texto[texto.rfind(\"boo\"):texto.rfind(\"boo\")+len('boo')]"
   ]
  },
  {
   "cell_type": "markdown",
   "id": "b4f01621",
   "metadata": {},
   "source": [
    "### 3. Clasificaciones de caracteres"
   ]
  },
  {
   "cell_type": "code",
   "execution_count": 39,
   "id": "7e004012",
   "metadata": {},
   "outputs": [],
   "source": [
    "text1=\"123abc\"\n",
    "text2=\"123$abc\"\n",
    "text3=\"123\""
   ]
  },
  {
   "cell_type": "code",
   "execution_count": 40,
   "id": "a5baa24f",
   "metadata": {},
   "outputs": [
    {
     "data": {
      "text/plain": [
       "True"
      ]
     },
     "execution_count": 40,
     "metadata": {},
     "output_type": "execute_result"
    }
   ],
   "source": [
    "text1.isalnum()"
   ]
  },
  {
   "cell_type": "code",
   "execution_count": 41,
   "id": "33dc8a0a",
   "metadata": {},
   "outputs": [
    {
     "data": {
      "text/plain": [
       "False"
      ]
     },
     "execution_count": 41,
     "metadata": {},
     "output_type": "execute_result"
    }
   ],
   "source": [
    "text2.isalnum()"
   ]
  },
  {
   "cell_type": "code",
   "execution_count": 42,
   "id": "4fc3ecf8",
   "metadata": {},
   "outputs": [
    {
     "data": {
      "text/plain": [
       "True"
      ]
     },
     "execution_count": 42,
     "metadata": {},
     "output_type": "execute_result"
    }
   ],
   "source": [
    "text3.isdigit()"
   ]
  },
  {
   "cell_type": "code",
   "execution_count": 43,
   "id": "885c3b9c",
   "metadata": {},
   "outputs": [
    {
     "data": {
      "text/plain": [
       "123"
      ]
     },
     "execution_count": 43,
     "metadata": {},
     "output_type": "execute_result"
    }
   ],
   "source": [
    "int(text3)"
   ]
  },
  {
   "cell_type": "markdown",
   "id": "bc1e66d5",
   "metadata": {},
   "source": [
    "### 4. String Formatting"
   ]
  },
  {
   "cell_type": "code",
   "execution_count": 44,
   "id": "96baa931",
   "metadata": {},
   "outputs": [],
   "source": [
    "texto=\"Hola Python\""
   ]
  },
  {
   "cell_type": "code",
   "execution_count": 46,
   "id": "032676ec",
   "metadata": {},
   "outputs": [
    {
     "data": {
      "text/plain": [
       "'                   Hola Python                    '"
      ]
     },
     "execution_count": 46,
     "metadata": {},
     "output_type": "execute_result"
    }
   ],
   "source": [
    "texto.center(50)"
   ]
  },
  {
   "cell_type": "code",
   "execution_count": 47,
   "id": "a8561847",
   "metadata": {},
   "outputs": [
    {
     "data": {
      "text/plain": [
       "'Hola Python                             '"
      ]
     },
     "execution_count": 47,
     "metadata": {},
     "output_type": "execute_result"
    }
   ],
   "source": [
    "texto.ljust(40)"
   ]
  },
  {
   "cell_type": "code",
   "execution_count": 52,
   "id": "fd36afdf",
   "metadata": {},
   "outputs": [],
   "source": [
    "texto=\"      \\t\\n         H ol a             Python                                          \""
   ]
  },
  {
   "cell_type": "code",
   "execution_count": 53,
   "id": "2c645b08",
   "metadata": {},
   "outputs": [
    {
     "data": {
      "text/plain": [
       "'H ol a             Python                                          '"
      ]
     },
     "execution_count": 53,
     "metadata": {},
     "output_type": "execute_result"
    }
   ],
   "source": [
    "texto.lstrip()"
   ]
  },
  {
   "cell_type": "code",
   "execution_count": 54,
   "id": "979a2b7d",
   "metadata": {},
   "outputs": [
    {
     "data": {
      "text/plain": [
       "'      \\t\\n         H ol a             Python'"
      ]
     },
     "execution_count": 54,
     "metadata": {},
     "output_type": "execute_result"
    }
   ],
   "source": [
    "texto.rstrip()"
   ]
  },
  {
   "cell_type": "code",
   "execution_count": 55,
   "id": "71289e0f",
   "metadata": {},
   "outputs": [
    {
     "data": {
      "text/plain": [
       "'H ol a             Python'"
      ]
     },
     "execution_count": 55,
     "metadata": {},
     "output_type": "execute_result"
    }
   ],
   "source": [
    "texto.strip()"
   ]
  },
  {
   "cell_type": "code",
   "execution_count": 57,
   "id": "dee05143",
   "metadata": {},
   "outputs": [
    {
     "data": {
      "text/plain": [
       "'HolaPython'"
      ]
     },
     "execution_count": 57,
     "metadata": {},
     "output_type": "execute_result"
    }
   ],
   "source": [
    "texto.strip().replace(\" \",\"\")"
   ]
  },
  {
   "cell_type": "code",
   "execution_count": 58,
   "id": "1016492d",
   "metadata": {},
   "outputs": [],
   "source": [
    "texto=\"HOLA\""
   ]
  },
  {
   "cell_type": "code",
   "execution_count": 61,
   "id": "71a759be",
   "metadata": {},
   "outputs": [
    {
     "data": {
      "text/plain": [
       "'0000HOLA'"
      ]
     },
     "execution_count": 61,
     "metadata": {},
     "output_type": "execute_result"
    }
   ],
   "source": [
    "texto.zfill(8)"
   ]
  },
  {
   "cell_type": "code",
   "execution_count": 65,
   "id": "ec511644",
   "metadata": {},
   "outputs": [
    {
     "data": {
      "text/plain": [
       "'azul, verde, rojo'"
      ]
     },
     "execution_count": 65,
     "metadata": {},
     "output_type": "execute_result"
    }
   ],
   "source": [
    "\", \".join([\"azul\",\"verde\",\"rojo\"])"
   ]
  },
  {
   "cell_type": "code",
   "execution_count": 66,
   "id": "445323cb",
   "metadata": {},
   "outputs": [
    {
     "data": {
      "text/plain": [
       "'1-hola-[luis]'"
      ]
     },
     "execution_count": 66,
     "metadata": {},
     "output_type": "execute_result"
    }
   ],
   "source": [
    "\"{}-{}-{}\".format(1,\"hola\",\"[luis]\")"
   ]
  },
  {
   "cell_type": "code",
   "execution_count": null,
   "id": "25ab47c4",
   "metadata": {},
   "outputs": [],
   "source": []
  }
 ],
 "metadata": {
  "kernelspec": {
   "display_name": "Python 3 (ipykernel)",
   "language": "python",
   "name": "python3"
  },
  "language_info": {
   "codemirror_mode": {
    "name": "ipython",
    "version": 3
   },
   "file_extension": ".py",
   "mimetype": "text/x-python",
   "name": "python",
   "nbconvert_exporter": "python",
   "pygments_lexer": "ipython3",
   "version": "3.11.5"
  }
 },
 "nbformat": 4,
 "nbformat_minor": 5
}
