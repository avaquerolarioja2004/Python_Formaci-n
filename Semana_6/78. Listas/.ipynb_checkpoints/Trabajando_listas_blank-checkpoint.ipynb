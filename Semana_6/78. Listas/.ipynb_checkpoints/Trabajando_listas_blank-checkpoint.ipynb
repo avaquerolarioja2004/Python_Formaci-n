{
 "cells": [
  {
   "cell_type": "markdown",
   "id": "16c4fd2c",
   "metadata": {},
   "source": [
    "# Trabajando con Listas"
   ]
  },
  {
   "cell_type": "markdown",
   "id": "e83dc5e5",
   "metadata": {},
   "source": [
    "Como hemos visto en el tema anterior, todos los tipos de datos que definimos en Python son objetos, y como consecuencia de esto, tienen varios métodos y atributos interesantes que debemos conocer."
   ]
  },
  {
   "cell_type": "code",
   "execution_count": 1,
   "id": "5e8a2a50",
   "metadata": {},
   "outputs": [
    {
     "data": {
      "text/plain": [
       "['__add__',\n",
       " '__class__',\n",
       " '__class_getitem__',\n",
       " '__contains__',\n",
       " '__delattr__',\n",
       " '__delitem__',\n",
       " '__dir__',\n",
       " '__doc__',\n",
       " '__eq__',\n",
       " '__format__',\n",
       " '__ge__',\n",
       " '__getattribute__',\n",
       " '__getitem__',\n",
       " '__getstate__',\n",
       " '__gt__',\n",
       " '__hash__',\n",
       " '__iadd__',\n",
       " '__imul__',\n",
       " '__init__',\n",
       " '__init_subclass__',\n",
       " '__iter__',\n",
       " '__le__',\n",
       " '__len__',\n",
       " '__lt__',\n",
       " '__mul__',\n",
       " '__ne__',\n",
       " '__new__',\n",
       " '__reduce__',\n",
       " '__reduce_ex__',\n",
       " '__repr__',\n",
       " '__reversed__',\n",
       " '__rmul__',\n",
       " '__setattr__',\n",
       " '__setitem__',\n",
       " '__sizeof__',\n",
       " '__str__',\n",
       " '__subclasshook__',\n",
       " 'append',\n",
       " 'clear',\n",
       " 'copy',\n",
       " 'count',\n",
       " 'extend',\n",
       " 'index',\n",
       " 'insert',\n",
       " 'pop',\n",
       " 'remove',\n",
       " 'reverse',\n",
       " 'sort']"
      ]
     },
     "execution_count": 1,
     "metadata": {},
     "output_type": "execute_result"
    }
   ],
   "source": [
    "dir(list)"
   ]
  },
  {
   "cell_type": "code",
   "execution_count": null,
   "id": "da791a93",
   "metadata": {},
   "outputs": [],
   "source": []
  },
  {
   "cell_type": "markdown",
   "id": "b681e88e",
   "metadata": {},
   "source": [
    "### 1. Modificando una lista"
   ]
  },
  {
   "cell_type": "code",
   "execution_count": 2,
   "id": "471806d5",
   "metadata": {},
   "outputs": [],
   "source": [
    "lista=[\"azul\",\"rojo\",\"verde\"]"
   ]
  },
  {
   "cell_type": "code",
   "execution_count": 3,
   "id": "dc44b935",
   "metadata": {},
   "outputs": [
    {
     "data": {
      "text/plain": [
       "['azul', 'rojo', 'verde']"
      ]
     },
     "execution_count": 3,
     "metadata": {},
     "output_type": "execute_result"
    }
   ],
   "source": [
    "lista"
   ]
  },
  {
   "cell_type": "code",
   "execution_count": 7,
   "id": "fbf463a8",
   "metadata": {},
   "outputs": [],
   "source": [
    "lista.append([\"amarillo\",\"violeta\"])"
   ]
  },
  {
   "cell_type": "code",
   "execution_count": 8,
   "id": "41162398",
   "metadata": {},
   "outputs": [
    {
     "data": {
      "text/plain": [
       "['azul', 'rojo', 'verde', 'amarillo', ['amarillo', 'violeta']]"
      ]
     },
     "execution_count": 8,
     "metadata": {},
     "output_type": "execute_result"
    }
   ],
   "source": [
    "lista"
   ]
  },
  {
   "cell_type": "code",
   "execution_count": 10,
   "id": "f846d2af",
   "metadata": {},
   "outputs": [],
   "source": [
    "lista.extend([\"morado\",\"ambar\"])"
   ]
  },
  {
   "cell_type": "code",
   "execution_count": 11,
   "id": "ede6b3f3",
   "metadata": {},
   "outputs": [
    {
     "data": {
      "text/plain": [
       "['azul',\n",
       " 'rojo',\n",
       " 'verde',\n",
       " 'amarillo',\n",
       " ['amarillo', 'violeta'],\n",
       " 'morado',\n",
       " 'ambar']"
      ]
     },
     "execution_count": 11,
     "metadata": {},
     "output_type": "execute_result"
    }
   ],
   "source": [
    "lista"
   ]
  },
  {
   "cell_type": "code",
   "execution_count": 12,
   "id": "9bcd893b",
   "metadata": {},
   "outputs": [],
   "source": [
    "lista.remove([\"amarillo\",\"violeta\"])"
   ]
  },
  {
   "cell_type": "code",
   "execution_count": 13,
   "id": "8d5a6b69",
   "metadata": {},
   "outputs": [
    {
     "data": {
      "text/plain": [
       "['azul', 'rojo', 'verde', 'amarillo', 'morado', 'ambar']"
      ]
     },
     "execution_count": 13,
     "metadata": {},
     "output_type": "execute_result"
    }
   ],
   "source": [
    "lista"
   ]
  },
  {
   "cell_type": "code",
   "execution_count": 14,
   "id": "991a0c82",
   "metadata": {},
   "outputs": [],
   "source": [
    "lista.reverse()"
   ]
  },
  {
   "cell_type": "code",
   "execution_count": 15,
   "id": "591c3489",
   "metadata": {},
   "outputs": [
    {
     "data": {
      "text/plain": [
       "['ambar', 'morado', 'amarillo', 'verde', 'rojo', 'azul']"
      ]
     },
     "execution_count": 15,
     "metadata": {},
     "output_type": "execute_result"
    }
   ],
   "source": [
    "lista"
   ]
  },
  {
   "cell_type": "code",
   "execution_count": 16,
   "id": "0073e000",
   "metadata": {},
   "outputs": [
    {
     "data": {
      "text/plain": [
       "'azul'"
      ]
     },
     "execution_count": 16,
     "metadata": {},
     "output_type": "execute_result"
    }
   ],
   "source": [
    "lista.pop()"
   ]
  },
  {
   "cell_type": "code",
   "execution_count": 17,
   "id": "a2b76263",
   "metadata": {},
   "outputs": [
    {
     "data": {
      "text/plain": [
       "['ambar', 'morado', 'amarillo', 'verde', 'rojo']"
      ]
     },
     "execution_count": 17,
     "metadata": {},
     "output_type": "execute_result"
    }
   ],
   "source": [
    "lista"
   ]
  },
  {
   "cell_type": "code",
   "execution_count": 18,
   "id": "958baf2d",
   "metadata": {},
   "outputs": [],
   "source": [
    "lista2=lista"
   ]
  },
  {
   "cell_type": "code",
   "execution_count": 19,
   "id": "3b0efb53",
   "metadata": {},
   "outputs": [],
   "source": [
    "lista[0]=\"yudg\""
   ]
  },
  {
   "cell_type": "code",
   "execution_count": 20,
   "id": "0c68f1ad",
   "metadata": {},
   "outputs": [
    {
     "data": {
      "text/plain": [
       "['yudg', 'morado', 'amarillo', 'verde', 'rojo']"
      ]
     },
     "execution_count": 20,
     "metadata": {},
     "output_type": "execute_result"
    }
   ],
   "source": [
    "lista"
   ]
  },
  {
   "cell_type": "code",
   "execution_count": 21,
   "id": "87867be4",
   "metadata": {},
   "outputs": [
    {
     "data": {
      "text/plain": [
       "['yudg', 'morado', 'amarillo', 'verde', 'rojo']"
      ]
     },
     "execution_count": 21,
     "metadata": {},
     "output_type": "execute_result"
    }
   ],
   "source": [
    "lista2"
   ]
  },
  {
   "cell_type": "code",
   "execution_count": 22,
   "id": "6b730d1f",
   "metadata": {},
   "outputs": [],
   "source": [
    "lista2=lista.copy()"
   ]
  },
  {
   "cell_type": "code",
   "execution_count": 23,
   "id": "09ec2350",
   "metadata": {},
   "outputs": [],
   "source": [
    "lista[0]=\"Amarillo\""
   ]
  },
  {
   "cell_type": "code",
   "execution_count": 24,
   "id": "4dc71647",
   "metadata": {},
   "outputs": [
    {
     "data": {
      "text/plain": [
       "['Amarillo', 'morado', 'amarillo', 'verde', 'rojo']"
      ]
     },
     "execution_count": 24,
     "metadata": {},
     "output_type": "execute_result"
    }
   ],
   "source": [
    "lista"
   ]
  },
  {
   "cell_type": "code",
   "execution_count": 25,
   "id": "1c0f32ee",
   "metadata": {},
   "outputs": [
    {
     "data": {
      "text/plain": [
       "['yudg', 'morado', 'amarillo', 'verde', 'rojo']"
      ]
     },
     "execution_count": 25,
     "metadata": {},
     "output_type": "execute_result"
    }
   ],
   "source": [
    "lista2"
   ]
  },
  {
   "cell_type": "code",
   "execution_count": 26,
   "id": "60c61d70",
   "metadata": {},
   "outputs": [],
   "source": [
    "lista2.clear()"
   ]
  },
  {
   "cell_type": "code",
   "execution_count": 27,
   "id": "0f186b9f",
   "metadata": {},
   "outputs": [
    {
     "data": {
      "text/plain": [
       "[]"
      ]
     },
     "execution_count": 27,
     "metadata": {},
     "output_type": "execute_result"
    }
   ],
   "source": [
    "lista2"
   ]
  },
  {
   "cell_type": "code",
   "execution_count": null,
   "id": "b8bebe18",
   "metadata": {},
   "outputs": [],
   "source": []
  },
  {
   "cell_type": "code",
   "execution_count": null,
   "id": "2bc6aff2",
   "metadata": {},
   "outputs": [],
   "source": []
  },
  {
   "cell_type": "code",
   "execution_count": null,
   "id": "7f0e525a",
   "metadata": {},
   "outputs": [],
   "source": []
  },
  {
   "cell_type": "markdown",
   "id": "900cbe3e",
   "metadata": {},
   "source": [
    "### 2. Accediendo a elementos de la lista"
   ]
  },
  {
   "cell_type": "code",
   "execution_count": 28,
   "id": "c1e88e35",
   "metadata": {},
   "outputs": [
    {
     "data": {
      "text/plain": [
       "4"
      ]
     },
     "execution_count": 28,
     "metadata": {},
     "output_type": "execute_result"
    }
   ],
   "source": [
    "lista.index(\"rojo\")"
   ]
  },
  {
   "cell_type": "code",
   "execution_count": 29,
   "id": "82e92824",
   "metadata": {},
   "outputs": [
    {
     "data": {
      "text/plain": [
       "'rojo'"
      ]
     },
     "execution_count": 29,
     "metadata": {},
     "output_type": "execute_result"
    }
   ],
   "source": [
    "lista[4]"
   ]
  },
  {
   "cell_type": "code",
   "execution_count": 31,
   "id": "beb043ab",
   "metadata": {},
   "outputs": [
    {
     "ename": "ValueError",
     "evalue": "'ushd' is not in list",
     "output_type": "error",
     "traceback": [
      "\u001b[1;31m---------------------------------------------------------------------------\u001b[0m",
      "\u001b[1;31mValueError\u001b[0m                                Traceback (most recent call last)",
      "Cell \u001b[1;32mIn[31], line 1\u001b[0m\n\u001b[1;32m----> 1\u001b[0m var\u001b[38;5;241m=\u001b[39mlista\u001b[38;5;241m.\u001b[39mindex(\u001b[38;5;124m\"\u001b[39m\u001b[38;5;124mushd\u001b[39m\u001b[38;5;124m\"\u001b[39m)\n",
      "\u001b[1;31mValueError\u001b[0m: 'ushd' is not in list"
     ]
    }
   ],
   "source": [
    "lista.index(\"ushd\")"
   ]
  },
  {
   "cell_type": "code",
   "execution_count": 35,
   "id": "4504d313",
   "metadata": {},
   "outputs": [
    {
     "data": {
      "text/plain": [
       "1"
      ]
     },
     "execution_count": 35,
     "metadata": {},
     "output_type": "execute_result"
    }
   ],
   "source": [
    "lista.count(\"rojo\")"
   ]
  },
  {
   "cell_type": "code",
   "execution_count": null,
   "id": "e613d716",
   "metadata": {},
   "outputs": [],
   "source": []
  },
  {
   "cell_type": "code",
   "execution_count": null,
   "id": "c2886884",
   "metadata": {},
   "outputs": [],
   "source": []
  },
  {
   "cell_type": "code",
   "execution_count": null,
   "id": "7df929b5",
   "metadata": {},
   "outputs": [],
   "source": []
  }
 ],
 "metadata": {
  "kernelspec": {
   "display_name": "Python 3 (ipykernel)",
   "language": "python",
   "name": "python3"
  },
  "language_info": {
   "codemirror_mode": {
    "name": "ipython",
    "version": 3
   },
   "file_extension": ".py",
   "mimetype": "text/x-python",
   "name": "python",
   "nbconvert_exporter": "python",
   "pygments_lexer": "ipython3",
   "version": "3.11.5"
  }
 },
 "nbformat": 4,
 "nbformat_minor": 5
}
