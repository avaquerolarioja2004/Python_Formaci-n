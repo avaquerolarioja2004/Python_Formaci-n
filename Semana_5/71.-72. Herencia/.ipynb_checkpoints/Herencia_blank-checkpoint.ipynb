{
 "cells": [
  {
   "cell_type": "markdown",
   "metadata": {},
   "source": [
    "# Herencia en Python 3"
   ]
  },
  {
   "cell_type": "markdown",
   "metadata": {},
   "source": [
    "### 1. ¿Qué es la herencia en Python 3?"
   ]
  },
  {
   "cell_type": "markdown",
   "metadata": {},
   "source": [
    "La herencia es el mecanismo que se utiliza para crear jerarquías de clases relacionadas. Estas clases relacionadas compartirán una interfaz común que se definirá en la clase base. Las clases derivadas de la clase base pueden especializar la interfaz proporcionando una implementación particular cuando corresponda."
   ]
  },
  {
   "cell_type": "code",
   "execution_count": 2,
   "metadata": {},
   "outputs": [],
   "source": [
    "class Coche():\n",
    "    \"\"\"Esta clase representa un coche.\"\"\"\n",
    "    \n",
    "    def __init__(self, modelo, potencia, consumo):\n",
    "        \"\"\"Inicializa los atributos de instancia.\n",
    "        \n",
    "        Argumentos posicionales:\n",
    "        modelo -- string que representa el modelo del coche\n",
    "        potencia -- int que representa la potencia en cv\n",
    "        consumo -- int que representa el consumo en litros/100km\n",
    "        \"\"\"\n",
    "        self.modelo = modelo\n",
    "        self.potencia = potencia\n",
    "        self.consumo = consumo\n",
    "        self._km_actuales = 0\n",
    "        self._combustible=\"l/100km\"\n",
    "        \n",
    "    def especificaciones(self):\n",
    "        \"\"\"Muestra las especificaciones del coche.\"\"\"\n",
    "        print(\"Modelo:\", self.modelo, \n",
    "              \"\\nPotencia: {} cv\".format(self.potencia), \n",
    "              f\"\\nConsumo: {self.consumo} {self._combustible}\",\n",
    "              \"\\nKilometros actuales:\", self._km_actuales)\n",
    "    \n",
    "    @property\n",
    "    def kilometros(self):\n",
    "        return self._km_actuales\n",
    "        \n",
    "    @kilometros.setter\n",
    "    def kilometros(self, kilometros):\n",
    "        \"\"\"Actualiza los kilometros actuales del coche.\"\"\"\n",
    "        if kilometros > self._km_actuales:\n",
    "            self._km_actuales = kilometros\n",
    "        else:\n",
    "            print(\"ERROR: No se puede establecer un valor de km inferior al actual\")     \n",
    "        \n",
    "    def consumo_total(self):\n",
    "        \"\"\"Muestra el consumo total del coche desde el kilometro 0.\"\"\"        \n",
    "        consumo_total = (self._km_actuales / 100) * self.consumo\n",
    "        print(\"El consumo total es de {} litros\".format(consumo_total))"
   ]
  },
  {
   "cell_type": "code",
   "execution_count": 3,
   "metadata": {},
   "outputs": [],
   "source": [
    "coche1=Coche(\"BMW\",120,10)"
   ]
  },
  {
   "cell_type": "code",
   "execution_count": 4,
   "metadata": {},
   "outputs": [
    {
     "name": "stdout",
     "output_type": "stream",
     "text": [
      "Modelo: BMW \n",
      "Potencia: 120 cv \n",
      "Consumo: 10 l/100km \n",
      "Kilometros actuales: 0\n"
     ]
    }
   ],
   "source": [
    "coche1.especificaciones()"
   ]
  },
  {
   "cell_type": "code",
   "execution_count": 5,
   "metadata": {},
   "outputs": [],
   "source": [
    "class CocheElectrico(Coche):\n",
    "    def __init__(self, modelo, potencia, consumo):\n",
    "        super().__init__(modelo, potencia, consumo)\n",
    "        self._combustible=\"KWh/100km\""
   ]
  },
  {
   "cell_type": "code",
   "execution_count": 6,
   "metadata": {},
   "outputs": [],
   "source": [
    "coche2=CocheElectrico(\"Tesla\",120,10)"
   ]
  },
  {
   "cell_type": "code",
   "execution_count": 7,
   "metadata": {},
   "outputs": [
    {
     "name": "stdout",
     "output_type": "stream",
     "text": [
      "Modelo: Tesla \n",
      "Potencia: 120 cv \n",
      "Consumo: 10 KWh/100km \n",
      "Kilometros actuales: 0\n"
     ]
    }
   ],
   "source": [
    "coche2.especificaciones()"
   ]
  },
  {
   "cell_type": "markdown",
   "metadata": {},
   "source": [
    "### 2. Definición de atributos y métodos propios en la clase hija"
   ]
  },
  {
   "cell_type": "markdown",
   "metadata": {},
   "source": [
    "Otra de las cosas que podemos hacer es extender el comportamiento de la clase padre añadiendo nuevos métodos y atributos en la clase hija."
   ]
  },
  {
   "cell_type": "code",
   "execution_count": 8,
   "metadata": {},
   "outputs": [],
   "source": [
    "class CocheElectrico(Coche):\n",
    "    def __init__(self, modelo, potencia, consumo,capacidad_bateria):\n",
    "        super().__init__(modelo, potencia, consumo)\n",
    "        self._combustible=\"KWh/100km\"\n",
    "        self._capacidad_bateria=capacidad_bateria\n",
    "        \n",
    "    def detalles_bateria(self):\n",
    "        print(\"El tamaño de la batería es: {} KWh\".format(self._capacidad_bateria))"
   ]
  },
  {
   "cell_type": "code",
   "execution_count": 9,
   "metadata": {},
   "outputs": [],
   "source": [
    "coche3=CocheElectrico(\"Tesla\",120,10,150)"
   ]
  },
  {
   "cell_type": "code",
   "execution_count": 10,
   "metadata": {},
   "outputs": [
    {
     "name": "stdout",
     "output_type": "stream",
     "text": [
      "El tamaño de la batería es: 150 KWh\n"
     ]
    }
   ],
   "source": [
    "coche3.detalles_bateria()"
   ]
  },
  {
   "cell_type": "code",
   "execution_count": 12,
   "metadata": {},
   "outputs": [],
   "source": [
    "coche3.kilometros=150"
   ]
  },
  {
   "cell_type": "markdown",
   "metadata": {},
   "source": [
    "### 3. Sobreescribir métodos de la clase padre"
   ]
  },
  {
   "cell_type": "markdown",
   "metadata": {},
   "source": [
    "En algunas ocasiones, es posible que alguno de los métodos de la clase padre no encaje bien con la clase hija que se ha definido. En estos casos, podemos sobreescribir el método de la clase padre dentro de la clase hija."
   ]
  },
  {
   "cell_type": "code",
   "execution_count": 13,
   "metadata": {},
   "outputs": [],
   "source": [
    "class CocheElectrico(Coche):\n",
    "    def __init__(self, modelo, potencia, consumo,capacidad_bateria):\n",
    "        super().__init__(modelo, potencia, consumo)\n",
    "        self._combustible=\"KWh/100km\"\n",
    "        self._capacidad_bateria=capacidad_bateria\n",
    "        \n",
    "    def detalles_bateria(self):\n",
    "        print(\"El tamaño de la batería es: {} KWh\".format(self._capacidad_bateria))\n",
    "        \n",
    "    def consumo_total(self):\n",
    "        \"\"\"Muestra el consumo total del coche desde el kilometro 0.\"\"\"        \n",
    "        consumo_total = (self._km_actuales / 100) * self.consumo\n",
    "        print(\"El consumo total es de {} KWh\".format(consumo_total))"
   ]
  },
  {
   "cell_type": "code",
   "execution_count": 14,
   "metadata": {},
   "outputs": [],
   "source": [
    "coche4=CocheElectrico(\"Tesla\",120,10,150)"
   ]
  },
  {
   "cell_type": "code",
   "execution_count": 16,
   "metadata": {},
   "outputs": [],
   "source": [
    "coche4.kilometros=150"
   ]
  },
  {
   "cell_type": "code",
   "execution_count": 17,
   "metadata": {},
   "outputs": [
    {
     "name": "stdout",
     "output_type": "stream",
     "text": [
      "El consumo total es de 15.0 KWh\n"
     ]
    }
   ],
   "source": [
    "coche4.consumo_total()"
   ]
  },
  {
   "cell_type": "code",
   "execution_count": null,
   "metadata": {},
   "outputs": [],
   "source": []
  },
  {
   "cell_type": "markdown",
   "metadata": {},
   "source": [
    "### 4. Objetos dentro de una clase"
   ]
  },
  {
   "cell_type": "markdown",
   "metadata": {},
   "source": [
    "Es posble que en algunos casos de uso, determinadas propiedades de una clase tenga suficiente entidad como para convertirse en una clase propia. En estos casos, podemos asginar un objeto de esta segunda a clase a un atributo de la primera."
   ]
  },
  {
   "cell_type": "code",
   "execution_count": 20,
   "metadata": {},
   "outputs": [],
   "source": [
    "class Bateria:\n",
    "    def __init__(self,capacidad,tipo_pila,num_pilas,peso):\n",
    "        self._capacidad=capacidad\n",
    "        self.__tipo_pila=tipo_pila\n",
    "        self._num_pilas=num_pilas\n",
    "        self._peso=peso\n",
    "        \n",
    "    def especificaciones(self):\n",
    "        print(self._capacidad,self.__tipo_pila,self._num_pilas,self._peso)"
   ]
  },
  {
   "cell_type": "code",
   "execution_count": 22,
   "metadata": {},
   "outputs": [],
   "source": [
    "bateria_tesla=Bateria(120,\"Litio\",12,150)"
   ]
  },
  {
   "cell_type": "code",
   "execution_count": 23,
   "metadata": {},
   "outputs": [
    {
     "name": "stdout",
     "output_type": "stream",
     "text": [
      "120 Litio 12 150\n"
     ]
    }
   ],
   "source": [
    "bateria_tesla.especificaciones()"
   ]
  },
  {
   "cell_type": "code",
   "execution_count": 31,
   "metadata": {},
   "outputs": [],
   "source": [
    "class CocheElectrico(Coche):\n",
    "    def __init__(self, modelo, potencia, consumo,bateria):\n",
    "        super().__init__(modelo, potencia, consumo)\n",
    "        self._combustible=\"KWh/100km\"\n",
    "        self._bateria=bateria\n",
    "        \n",
    "    def detalles_bateria(self):\n",
    "        self._bateria.especificaciones()\n",
    "        \n",
    "    def consumo_total(self):\n",
    "        \"\"\"Muestra el consumo total del coche desde el kilometro 0.\"\"\"        \n",
    "        consumo_total = (self._km_actuales / 100) * self.consumo\n",
    "        print(\"El consumo total es de {} KWh\".format(consumo_total))"
   ]
  },
  {
   "cell_type": "code",
   "execution_count": 32,
   "metadata": {},
   "outputs": [],
   "source": [
    "coche5=CocheElectrico(\"Tesla\",120,10,bateria_tesla)"
   ]
  },
  {
   "cell_type": "code",
   "execution_count": 33,
   "metadata": {},
   "outputs": [
    {
     "name": "stdout",
     "output_type": "stream",
     "text": [
      "120 Litio 12 150\n"
     ]
    }
   ],
   "source": [
    "coche5.detalles_bateria()"
   ]
  },
  {
   "cell_type": "code",
   "execution_count": null,
   "metadata": {},
   "outputs": [],
   "source": []
  }
 ],
 "metadata": {
  "kernelspec": {
   "display_name": "Python 3 (ipykernel)",
   "language": "python",
   "name": "python3"
  },
  "language_info": {
   "codemirror_mode": {
    "name": "ipython",
    "version": 3
   },
   "file_extension": ".py",
   "mimetype": "text/x-python",
   "name": "python",
   "nbconvert_exporter": "python",
   "pygments_lexer": "ipython3",
   "version": "3.11.5"
  }
 },
 "nbformat": 4,
 "nbformat_minor": 4
}
