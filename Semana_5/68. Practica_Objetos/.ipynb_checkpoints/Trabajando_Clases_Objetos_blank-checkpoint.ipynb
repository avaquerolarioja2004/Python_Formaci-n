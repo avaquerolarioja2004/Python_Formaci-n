{
 "cells": [
  {
   "cell_type": "markdown",
   "metadata": {},
   "source": [
    "# Trabajando con Clases y Objetos"
   ]
  },
  {
   "cell_type": "markdown",
   "metadata": {},
   "source": [
    "### 1. Definiendo una clase"
   ]
  },
  {
   "cell_type": "code",
   "execution_count": 17,
   "metadata": {},
   "outputs": [],
   "source": [
    "class coche:\n",
    "    def __init__(self,modelo,potencia,consumo):\n",
    "        \"\"\"Argumentos:\n",
    "            -modelo:str\n",
    "            -potencia:int\n",
    "            -consumo:int\n",
    "        \"\"\"\n",
    "        self.modelo=modelo\n",
    "        self.potencia=potencia\n",
    "        self.consumo=consumo\n",
    "        \n",
    "    def datos(self):\n",
    "        print(f\"Modelo: {self.modelo}\\nPotencia: {self.potencia}\\nConsumo: {self.consumo}\")"
   ]
  },
  {
   "cell_type": "code",
   "execution_count": 19,
   "metadata": {},
   "outputs": [],
   "source": [
    "coche1=coche(\"Opel\",160,2)"
   ]
  },
  {
   "cell_type": "code",
   "execution_count": 20,
   "metadata": {},
   "outputs": [
    {
     "name": "stdout",
     "output_type": "stream",
     "text": [
      "Modelo: Opel\n",
      "Potencia: 160\n",
      "Consumo: 2\n"
     ]
    }
   ],
   "source": [
    "coche1.datos()"
   ]
  },
  {
   "cell_type": "code",
   "execution_count": null,
   "metadata": {},
   "outputs": [],
   "source": []
  },
  {
   "cell_type": "markdown",
   "metadata": {},
   "source": [
    "### 2. Atributos con valores por defecto"
   ]
  },
  {
   "cell_type": "code",
   "execution_count": 21,
   "metadata": {},
   "outputs": [],
   "source": [
    "class coche:\n",
    "    def __init__(self,modelo=\"BMW\",potencia=0,consumo=0):\n",
    "        \"\"\"Argumentos:\n",
    "            -modelo:str\n",
    "            -potencia:int\n",
    "            -consumo:int\n",
    "        \"\"\"\n",
    "        self.modelo=modelo\n",
    "        self.potencia=potencia\n",
    "        self.consumo=consumo\n",
    "        self.km=0\n",
    "        \n",
    "    def datos(self):\n",
    "        print(f\"Modelo: {self.modelo}\\nPotencia: {self.potencia}\\nConsumo: {self.consumo}\\nKM: {self.km}\")"
   ]
  },
  {
   "cell_type": "code",
   "execution_count": 22,
   "metadata": {},
   "outputs": [],
   "source": [
    "coche2=coche()"
   ]
  },
  {
   "cell_type": "code",
   "execution_count": 23,
   "metadata": {},
   "outputs": [
    {
     "name": "stdout",
     "output_type": "stream",
     "text": [
      "Modelo: BMW\n",
      "Potencia: 0\n",
      "Consumo: 0\n",
      "KM: 0\n"
     ]
    }
   ],
   "source": [
    "coche2.datos()"
   ]
  },
  {
   "cell_type": "code",
   "execution_count": null,
   "metadata": {},
   "outputs": [],
   "source": []
  },
  {
   "cell_type": "markdown",
   "metadata": {},
   "source": [
    "### 3. Modificando los valores de los atributos de un objeto"
   ]
  },
  {
   "cell_type": "markdown",
   "metadata": {},
   "source": [
    "La manera más sencilla de modificar el valor de un atributo de un objeto es utilizando la sintaxis: \n",
    "```\n",
    "<objeto>.<atributo> = <nuevo_valor>\n",
    "```"
   ]
  },
  {
   "cell_type": "code",
   "execution_count": 24,
   "metadata": {},
   "outputs": [],
   "source": [
    "coche2.km=10"
   ]
  },
  {
   "cell_type": "code",
   "execution_count": 25,
   "metadata": {},
   "outputs": [
    {
     "name": "stdout",
     "output_type": "stream",
     "text": [
      "Modelo: BMW\n",
      "Potencia: 0\n",
      "Consumo: 0\n",
      "KM: 10\n"
     ]
    }
   ],
   "source": [
    "coche2.datos()"
   ]
  },
  {
   "cell_type": "markdown",
   "metadata": {},
   "source": [
    "Por otro lado, existe una práctica mejor a la hora de modificar los atributos de la clase que consiste en hacerlo a través de un método especialmente creado para ello.\n",
    "\n",
    "Esto nos permite realizar operaciones adicionales dentro de nuestro objeto siempre que se recibe un nuevo valor de un atributo."
   ]
  },
  {
   "cell_type": "code",
   "execution_count": 41,
   "metadata": {},
   "outputs": [],
   "source": [
    "class coche:\n",
    "    def __init__(self,modelo=\"BMW\",potencia=0,consumo=0):\n",
    "        \"\"\"Argumentos:\n",
    "            -modelo:str\n",
    "            -potencia:int\n",
    "            -consumo:int\n",
    "        \"\"\"\n",
    "        #Se usa _ delante de la variable para indicar que es privada, no cambia a nivel práctico pero si a nivel lógico\n",
    "        self._modelo=modelo\n",
    "        self._potencia=potencia\n",
    "        self._consumo=consumo\n",
    "        self._km=0\n",
    "        \n",
    "    def datos(self):\n",
    "        print(f\"Modelo: {self._modelo}\\nPotencia: {self._potencia}\\nConsumo: {self._consumo}\\nKM: {self._km}\")\n",
    "        \n",
    "    def update_km(self,km):\n",
    "        if km>=0: \n",
    "            self._km+=km\n",
    "        else:\n",
    "            print(\"No se pueden añadir kilometros negativos\")"
   ]
  },
  {
   "cell_type": "code",
   "execution_count": 42,
   "metadata": {},
   "outputs": [],
   "source": [
    "coche3=coche()"
   ]
  },
  {
   "cell_type": "code",
   "execution_count": 43,
   "metadata": {},
   "outputs": [],
   "source": [
    "coche3.update_km(120)"
   ]
  },
  {
   "cell_type": "code",
   "execution_count": 44,
   "metadata": {},
   "outputs": [
    {
     "name": "stdout",
     "output_type": "stream",
     "text": [
      "Modelo: BMW\n",
      "Potencia: 0\n",
      "Consumo: 0\n",
      "KM: 120\n"
     ]
    }
   ],
   "source": [
    "coche3.datos()"
   ]
  },
  {
   "cell_type": "code",
   "execution_count": 45,
   "metadata": {},
   "outputs": [],
   "source": [
    "coche3.update_km(0)"
   ]
  },
  {
   "cell_type": "code",
   "execution_count": 46,
   "metadata": {},
   "outputs": [
    {
     "name": "stdout",
     "output_type": "stream",
     "text": [
      "No se pueden añadir kilometros negativos\n"
     ]
    }
   ],
   "source": [
    "coche3.update_km(-10)"
   ]
  }
 ],
 "metadata": {
  "kernelspec": {
   "display_name": "Python 3 (ipykernel)",
   "language": "python",
   "name": "python3"
  },
  "language_info": {
   "codemirror_mode": {
    "name": "ipython",
    "version": 3
   },
   "file_extension": ".py",
   "mimetype": "text/x-python",
   "name": "python",
   "nbconvert_exporter": "python",
   "pygments_lexer": "ipython3",
   "version": "3.11.5"
  }
 },
 "nbformat": 4,
 "nbformat_minor": 4
}
