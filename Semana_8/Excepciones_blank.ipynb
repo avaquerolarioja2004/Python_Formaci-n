{
 "cells": [
  {
   "cell_type": "markdown",
   "id": "5f91f1b6",
   "metadata": {},
   "source": [
    "# Excepciones en Python 3"
   ]
  },
  {
   "cell_type": "markdown",
   "id": "48d51f86",
   "metadata": {},
   "source": [
    "### 1. ¿Qué son las excepciones?"
   ]
  },
  {
   "cell_type": "markdown",
   "id": "9b78e717",
   "metadata": {},
   "source": [
    "Python utiliza un tipo de objeto especial denominado excepción para gestionar los errores que surgen durante la ejecución de un programa. \n",
    "\n",
    "Cada vez que ocurre un error que hace que Python no sepa qué hacer a continuación, crea un objeto de excepción. Si se escribe código que maneja la excepción, el programa continuará ejecutándose. Por el contrario, si no se maneja la excepción, el programa se detendrá y mostrará un pequeño resumen de la excepción que se ha producido.\n",
    "\n",
    "Las excepciones se pueden manejan a través de las sentencias `try` y `except`."
   ]
  },
  {
   "cell_type": "code",
   "execution_count": 1,
   "id": "4fc78b55",
   "metadata": {},
   "outputs": [
    {
     "ename": "NameError",
     "evalue": "name 'var' is not defined",
     "output_type": "error",
     "traceback": [
      "\u001b[1;31m---------------------------------------------------------------------------\u001b[0m",
      "\u001b[1;31mNameError\u001b[0m                                 Traceback (most recent call last)",
      "Cell \u001b[1;32mIn[1], line 1\u001b[0m\n\u001b[1;32m----> 1\u001b[0m \u001b[38;5;28mprint\u001b[39m(var)\n",
      "\u001b[1;31mNameError\u001b[0m: name 'var' is not defined"
     ]
    }
   ],
   "source": [
    "print(var)"
   ]
  },
  {
   "cell_type": "markdown",
   "id": "95c7f13b",
   "metadata": {},
   "source": [
    "### 2. Errores de sintaxis vs Excepciones"
   ]
  },
  {
   "cell_type": "markdown",
   "id": "0ba552aa",
   "metadata": {},
   "source": [
    "A pesar de que en muchas ocasiones estos dos términos se utilizan de manera indistinta cuando hablamos de Python, debemos tener cuidado porque son cosas diferentes.\n",
    "\n",
    "Los **errores de sintaxis** se producen cuando escribimos una sentencia de código en Python que no es sintácticamente válida. El intérprete de Python indica estos error con el término `SyntaxError` y nos señala con el carácter `^` donde se encuentra el error."
   ]
  },
  {
   "cell_type": "code",
   "execution_count": 3,
   "id": "a6634e1b",
   "metadata": {},
   "outputs": [
    {
     "ename": "SyntaxError",
     "evalue": "unterminated string literal (detected at line 1) (262766445.py, line 1)",
     "output_type": "error",
     "traceback": [
      "\u001b[1;36m  Cell \u001b[1;32mIn[3], line 1\u001b[1;36m\u001b[0m\n\u001b[1;33m    bol=\"true\u001b[0m\n\u001b[1;37m        ^\u001b[0m\n\u001b[1;31mSyntaxError\u001b[0m\u001b[1;31m:\u001b[0m unterminated string literal (detected at line 1)\n"
     ]
    }
   ],
   "source": [
    "bol=\"true"
   ]
  },
  {
   "cell_type": "markdown",
   "id": "69a58b98",
   "metadata": {},
   "source": [
    "**Este tipo de errores no se pueden controlar y no se corresponden con excepciones dentro del lenguaje**"
   ]
  },
  {
   "cell_type": "markdown",
   "id": "6d4f8a38",
   "metadata": {},
   "source": [
    "Por otro lado, las **excepciones** se corresponden con errores que se producen en sentencias de código en Python que son sintácticamente correctas. Esto tipo de errores no son fatales para el programa y pueden ser gestionados o ignorados."
   ]
  },
  {
   "cell_type": "code",
   "execution_count": 4,
   "id": "129975e5",
   "metadata": {},
   "outputs": [
    {
     "ename": "ZeroDivisionError",
     "evalue": "division by zero",
     "output_type": "error",
     "traceback": [
      "\u001b[1;31m---------------------------------------------------------------------------\u001b[0m",
      "\u001b[1;31mZeroDivisionError\u001b[0m                         Traceback (most recent call last)",
      "Cell \u001b[1;32mIn[4], line 1\u001b[0m\n\u001b[1;32m----> 1\u001b[0m \u001b[38;5;241m50\u001b[39m\u001b[38;5;241m/\u001b[39m\u001b[38;5;241m0\u001b[39m\n",
      "\u001b[1;31mZeroDivisionError\u001b[0m: division by zero"
     ]
    }
   ],
   "source": [
    "50/0"
   ]
  },
  {
   "cell_type": "code",
   "execution_count": 5,
   "id": "35cd3274",
   "metadata": {},
   "outputs": [
    {
     "ename": "TypeError",
     "evalue": "unsupported operand type(s) for /: 'str' and 'int'",
     "output_type": "error",
     "traceback": [
      "\u001b[1;31m---------------------------------------------------------------------------\u001b[0m",
      "\u001b[1;31mTypeError\u001b[0m                                 Traceback (most recent call last)",
      "Cell \u001b[1;32mIn[5], line 1\u001b[0m\n\u001b[1;32m----> 1\u001b[0m \u001b[38;5;124m\"\u001b[39m\u001b[38;5;124m2\u001b[39m\u001b[38;5;124m\"\u001b[39m\u001b[38;5;241m/\u001b[39m\u001b[38;5;241m5\u001b[39m\n",
      "\u001b[1;31mTypeError\u001b[0m: unsupported operand type(s) for /: 'str' and 'int'"
     ]
    }
   ],
   "source": [
    "\"2\"/5"
   ]
  },
  {
   "cell_type": "code",
   "execution_count": null,
   "id": "64baa261",
   "metadata": {},
   "outputs": [],
   "source": []
  },
  {
   "cell_type": "markdown",
   "id": "551a2402",
   "metadata": {},
   "source": [
    "### 3. Gestión de excepciones: Sentencias `try` y `except`"
   ]
  },
  {
   "cell_type": "markdown",
   "id": "df84c702",
   "metadata": {},
   "source": [
    "Las sentencias `try` y `except` en Python pueden utilizarse para capturar y manejar excepciones. Python ejecuta el código que sigue a la sentencia `try` como una parte \"normal\" del programa. El código que sigue a la sentencia `except` se ejecutará si se produce cualquier excepción en la cláusula `try` precedente.\n",
    "\n",
    "La sintaxis que se utiliza para definir este tipo de comportamiento es la siguiente:\n",
    "```\n",
    "try:\n",
    "    <sentencia(s)>\n",
    "except <excepción>:\n",
    "    <sentencias(s) si excepción>\n",
    "```"
   ]
  },
  {
   "cell_type": "code",
   "execution_count": 8,
   "id": "4f3784f6",
   "metadata": {},
   "outputs": [
    {
     "name": "stdout",
     "output_type": "stream",
     "text": [
      "boooo\n"
     ]
    }
   ],
   "source": [
    "try:\n",
    "    print(var)\n",
    "except NameError:\n",
    "    print(\"error\")\n",
    "    var=\"boooo\""
   ]
  },
  {
   "cell_type": "markdown",
   "id": "3033e104",
   "metadata": {},
   "source": [
    "Debemos tener en cuenta que el las sentencias de código que se encuentren en el cuerpo de la sentencia `try` y a continuación de la sentencia que emite la excepción, no se ejecutarán"
   ]
  },
  {
   "cell_type": "code",
   "execution_count": 11,
   "id": "16d05a91",
   "metadata": {},
   "outputs": [
    {
     "name": "stdout",
     "output_type": "stream",
     "text": [
      "antes\n",
      "36\n"
     ]
    }
   ],
   "source": [
    "try:\n",
    "    print(\"antes\")\n",
    "    3+\"6\"\n",
    "    print(\"despues\")\n",
    "except TypeError:\n",
    "    print(36)"
   ]
  },
  {
   "cell_type": "markdown",
   "id": "3dd0a0cf",
   "metadata": {},
   "source": [
    "También podemos utilizar la sentencia `except` sin indicarle el nombre de ninguna excepción, en estos casos capturará todas las excepciones que se produzcan en el código que se encuentra en el cuerpo de la sentencia `try`"
   ]
  },
  {
   "cell_type": "code",
   "execution_count": 13,
   "id": "48afde16",
   "metadata": {},
   "outputs": [
    {
     "name": "stdout",
     "output_type": "stream",
     "text": [
      "ERRORES\n"
     ]
    }
   ],
   "source": [
    "try:\n",
    "    50/0\n",
    "    3+\"3\"\n",
    "except:\n",
    "    print(\"ERRORES\")"
   ]
  },
  {
   "cell_type": "markdown",
   "id": "3be4f466",
   "metadata": {},
   "source": [
    "Adicionalmente a la sintaxis anterior, podemos capturar varias excepciones de manera simultánea utilizando varias cláusulas `except`"
   ]
  },
  {
   "cell_type": "code",
   "execution_count": 18,
   "id": "cfaafa91",
   "metadata": {},
   "outputs": [
    {
     "name": "stdout",
     "output_type": "stream",
     "text": [
      "Type\n"
     ]
    }
   ],
   "source": [
    "try:\n",
    "    50/0\n",
    "    3+\"3\"\n",
    "except TypeError:\n",
    "    print(\"Type\")\n",
    "except ZeroDivisionError:\n",
    "    print(\"Cero\")"
   ]
  },
  {
   "cell_type": "markdown",
   "id": "18c292e4",
   "metadata": {},
   "source": [
    "Por último, podemos asignar el objeto excepción capturado a una variable y utilizarlos para mostrar más información al respecto."
   ]
  },
  {
   "cell_type": "code",
   "execution_count": 19,
   "id": "6bc5bae1",
   "metadata": {},
   "outputs": [
    {
     "name": "stdout",
     "output_type": "stream",
     "text": [
      "Cero\n",
      "division by zero\n"
     ]
    }
   ],
   "source": [
    "try:\n",
    "    50/0\n",
    "    3+\"3\"\n",
    "except TypeError:\n",
    "    print(\"Type\")\n",
    "except ZeroDivisionError as error:\n",
    "    print(\"Cero\")\n",
    "    print(error)"
   ]
  },
  {
   "cell_type": "markdown",
   "id": "99548108",
   "metadata": {},
   "source": [
    "### 4. Lanzando excepciones personalizadas"
   ]
  },
  {
   "cell_type": "markdown",
   "id": "70feb2f3",
   "metadata": {},
   "source": [
    "Además de las sentencias anteriores que podemos utilizar para controlar excepciones, Python nos proporciona la sentencia `raise` con la que podemos emitir nuestras propias excepciones. Para ello, debemos utilizar la clase por defecto de Python `Exception`"
   ]
  },
  {
   "cell_type": "code",
   "execution_count": 22,
   "id": "d412e7a9",
   "metadata": {},
   "outputs": [],
   "source": [
    "colores_permitidos=(\"rojo\",\"azul\",\"verde\")"
   ]
  },
  {
   "cell_type": "code",
   "execution_count": 23,
   "id": "ab3994e0",
   "metadata": {},
   "outputs": [
    {
     "name": "stdout",
     "output_type": "stream",
     "text": [
      "amarillo\n"
     ]
    },
    {
     "ename": "Exception",
     "evalue": "Color no permitido",
     "output_type": "error",
     "traceback": [
      "\u001b[1;31m---------------------------------------------------------------------------\u001b[0m",
      "\u001b[1;31mException\u001b[0m                                 Traceback (most recent call last)",
      "Cell \u001b[1;32mIn[23], line 3\u001b[0m\n\u001b[0;32m      1\u001b[0m color\u001b[38;5;241m=\u001b[39m\u001b[38;5;28minput\u001b[39m()\n\u001b[0;32m      2\u001b[0m \u001b[38;5;28;01mif\u001b[39;00m color \u001b[38;5;129;01mnot\u001b[39;00m \u001b[38;5;129;01min\u001b[39;00m colores_permitidos:\n\u001b[1;32m----> 3\u001b[0m     \u001b[38;5;28;01mraise\u001b[39;00m \u001b[38;5;167;01mException\u001b[39;00m(\u001b[38;5;124m\"\u001b[39m\u001b[38;5;124mColor no permitido\u001b[39m\u001b[38;5;124m\"\u001b[39m)\n\u001b[0;32m      4\u001b[0m \u001b[38;5;28;01melse\u001b[39;00m:\n\u001b[0;32m      5\u001b[0m     \u001b[38;5;28mprint\u001b[39m(\u001b[38;5;124m\"\u001b[39m\u001b[38;5;124mOk\u001b[39m\u001b[38;5;124m\"\u001b[39m)\n",
      "\u001b[1;31mException\u001b[0m: Color no permitido"
     ]
    }
   ],
   "source": [
    "color=input()\n",
    "if color not in colores_permitidos:\n",
    "    raise Exception(\"Color no permitido\")\n",
    "else:\n",
    "    print(\"Ok\")"
   ]
  },
  {
   "cell_type": "code",
   "execution_count": null,
   "id": "e7bf9ee3",
   "metadata": {},
   "outputs": [],
   "source": []
  },
  {
   "cell_type": "markdown",
   "id": "8f41d80a",
   "metadata": {},
   "source": [
    "### 5. Excepción `AssertionError`"
   ]
  },
  {
   "cell_type": "markdown",
   "id": "a3f79fad",
   "metadata": {},
   "source": [
    "Como complemento a todas las sentencias anteriores, Python nos proporciona una sentencia adicional que nos permite verificar en un punto determinado de nuestro programa que todo esta funcionando adecuadamente, esta sentencia es `assert`."
   ]
  },
  {
   "cell_type": "code",
   "execution_count": 25,
   "id": "57eedf5d",
   "metadata": {},
   "outputs": [
    {
     "name": "stdout",
     "output_type": "stream",
     "text": [
      "Password: 12345678\n"
     ]
    },
    {
     "ename": "AssertionError",
     "evalue": "La contraseña es menor a 8",
     "output_type": "error",
     "traceback": [
      "\u001b[1;31m---------------------------------------------------------------------------\u001b[0m",
      "\u001b[1;31mAssertionError\u001b[0m                            Traceback (most recent call last)",
      "Cell \u001b[1;32mIn[25], line 2\u001b[0m\n\u001b[0;32m      1\u001b[0m passwd\u001b[38;5;241m=\u001b[39m\u001b[38;5;28minput\u001b[39m(\u001b[38;5;124m\"\u001b[39m\u001b[38;5;124mPassword: \u001b[39m\u001b[38;5;124m\"\u001b[39m)\n\u001b[1;32m----> 2\u001b[0m \u001b[38;5;28;01massert\u001b[39;00m \u001b[38;5;28mlen\u001b[39m(passwd)\u001b[38;5;241m>\u001b[39m\u001b[38;5;241m8\u001b[39m, \u001b[38;5;124m\"\u001b[39m\u001b[38;5;124mLa contraseña es menor a 8\u001b[39m\u001b[38;5;124m\"\u001b[39m\n",
      "\u001b[1;31mAssertionError\u001b[0m: La contraseña es menor a 8"
     ]
    }
   ],
   "source": [
    "passwd=input(\"Password: \")\n",
    "assert len(passwd)>=8, \"La contraseña es menor a 8\"\n",
    "    "
   ]
  },
  {
   "cell_type": "markdown",
   "id": "a717e6f3",
   "metadata": {},
   "source": [
    "### 6. Cláusula `else` en excepciones"
   ]
  },
  {
   "cell_type": "markdown",
   "id": "a6c4ba89",
   "metadata": {},
   "source": [
    "Curiosamente, Python nos proporciona un mecanismo por el cual utilizando la sentencia `else`, se puede indicar a un programa que ejecute un determinado bloque de código sólo en ausencia de excepciones."
   ]
  },
  {
   "cell_type": "code",
   "execution_count": 47,
   "id": "6e5105f0",
   "metadata": {},
   "outputs": [
    {
     "name": "stdout",
     "output_type": "stream",
     "text": [
      "[]\n",
      "Ya se definió con la variable: []\n"
     ]
    }
   ],
   "source": [
    "try:\n",
    "    print(num)\n",
    "except:\n",
    "    print(\"No estaba definida\")\n",
    "    num=2\n",
    "else:\n",
    "    print(\"Ya se definió con la variable: {}\".format(num))"
   ]
  },
  {
   "cell_type": "markdown",
   "id": "9087c54f",
   "metadata": {},
   "source": [
    "### 7. Sentencia `finally`"
   ]
  },
  {
   "cell_type": "markdown",
   "id": "ad751662",
   "metadata": {},
   "source": [
    "Python nos proporciona una última sentencia que podemos utilizar para realizar una \"limpieza\" después de la ejecución de nuestro código al gestionar una excepción. Esta sentencia se denomina `finally` y el código que se localice en su cuerpo, se ejcutará siempre, independientemente de si se produce o no la expcepción."
   ]
  },
  {
   "cell_type": "code",
   "execution_count": 50,
   "id": "d9083431",
   "metadata": {},
   "outputs": [
    {
     "name": "stdout",
     "output_type": "stream",
     "text": [
      "2\n",
      "Ya se definió con la variable: 2\n",
      "Acaba Todo\n"
     ]
    }
   ],
   "source": [
    "try:\n",
    "    print(num2)\n",
    "except:\n",
    "    print(\"No estaba definida\")\n",
    "    num2=2\n",
    "else:\n",
    "    print(\"Ya se definió con la variable: {}\".format(num2))\n",
    "finally:\n",
    "    print(\"Acaba Todo\")"
   ]
  },
  {
   "cell_type": "code",
   "execution_count": null,
   "id": "f95be2f3",
   "metadata": {},
   "outputs": [],
   "source": []
  },
  {
   "cell_type": "code",
   "execution_count": null,
   "id": "9d25eb2b",
   "metadata": {},
   "outputs": [],
   "source": []
  },
  {
   "cell_type": "code",
   "execution_count": null,
   "id": "219f0d86",
   "metadata": {},
   "outputs": [],
   "source": []
  }
 ],
 "metadata": {
  "kernelspec": {
   "display_name": "Python 3 (ipykernel)",
   "language": "python",
   "name": "python3"
  },
  "language_info": {
   "codemirror_mode": {
    "name": "ipython",
    "version": 3
   },
   "file_extension": ".py",
   "mimetype": "text/x-python",
   "name": "python",
   "nbconvert_exporter": "python",
   "pygments_lexer": "ipython3",
   "version": "3.11.5"
  }
 },
 "nbformat": 4,
 "nbformat_minor": 5
}
