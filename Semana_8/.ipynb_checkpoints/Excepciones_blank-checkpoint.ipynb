{
 "cells": [
  {
   "cell_type": "markdown",
   "id": "5f91f1b6",
   "metadata": {},
   "source": [
    "# Excepciones en Python 3"
   ]
  },
  {
   "cell_type": "markdown",
   "id": "48d51f86",
   "metadata": {},
   "source": [
    "### 1. ¿Qué son las excepciones?"
   ]
  },
  {
   "cell_type": "markdown",
   "id": "9b78e717",
   "metadata": {},
   "source": [
    "Python utiliza un tipo de objeto especial denominado excepción para gestionar los errores que surgen durante la ejecución de un programa. \n",
    "\n",
    "Cada vez que ocurre un error que hace que Python no sepa qué hacer a continuación, crea un objeto de excepción. Si se escribe código que maneja la excepción, el programa continuará ejecutándose. Por el contrario, si no se maneja la excepción, el programa se detendrá y mostrará un pequeño resumen de la excepción que se ha producido.\n",
    "\n",
    "Las excepciones se pueden manejan a través de las sentencias `try` y `except`."
   ]
  },
  {
   "cell_type": "code",
   "execution_count": null,
   "id": "4fc78b55",
   "metadata": {},
   "outputs": [],
   "source": []
  },
  {
   "cell_type": "markdown",
   "id": "95c7f13b",
   "metadata": {},
   "source": [
    "### 2. Errores de sintaxis vs Excepciones"
   ]
  },
  {
   "cell_type": "markdown",
   "id": "0ba552aa",
   "metadata": {},
   "source": [
    "A pesar de que en muchas ocasiones estos dos términos se utilizan de manera indistinta cuando hablamos de Python, debemos tener cuidado porque son cosas diferentes.\n",
    "\n",
    "Los **errores de sintaxis** se producen cuando escribimos una sentencia de código en Python que no es sintácticamente válida. El intérprete de Python indica estos error con el término `SyntaxError` y nos señala con el carácter `^` donde se encuentra el error."
   ]
  },
  {
   "cell_type": "code",
   "execution_count": null,
   "id": "a6634e1b",
   "metadata": {},
   "outputs": [],
   "source": []
  },
  {
   "cell_type": "markdown",
   "id": "69a58b98",
   "metadata": {},
   "source": [
    "**Este tipo de errores no se pueden controlar y no se corresponden con excepciones dentro del lenguaje**"
   ]
  },
  {
   "cell_type": "markdown",
   "id": "6d4f8a38",
   "metadata": {},
   "source": [
    "Por otro lado, las **excepciones** se corresponden con errores que se producen en sentencias de código en Python que son sintácticamente correctas. Esto tipo de errores no son fatales para el programa y pueden ser gestionados o ignorados."
   ]
  },
  {
   "cell_type": "code",
   "execution_count": null,
   "id": "129975e5",
   "metadata": {},
   "outputs": [],
   "source": []
  },
  {
   "cell_type": "code",
   "execution_count": null,
   "id": "35cd3274",
   "metadata": {},
   "outputs": [],
   "source": []
  },
  {
   "cell_type": "code",
   "execution_count": null,
   "id": "64baa261",
   "metadata": {},
   "outputs": [],
   "source": []
  },
  {
   "cell_type": "markdown",
   "id": "551a2402",
   "metadata": {},
   "source": [
    "### 3. Gestión de excepciones: Sentencias `try` y `except`"
   ]
  },
  {
   "cell_type": "markdown",
   "id": "df84c702",
   "metadata": {},
   "source": [
    "Las sentencias `try` y `except` en Python pueden utilizarse para capturar y manejar excepciones. Python ejecuta el código que sigue a la sentencia `try` como una parte \"normal\" del programa. El código que sigue a la sentencia `except` se ejecutará si se produce cualquier excepción en la cláusula `try` precedente.\n",
    "\n",
    "La sintaxis que se utiliza para definir este tipo de comportamiento es la siguiente:\n",
    "```\n",
    "try:\n",
    "    <sentencia(s)>\n",
    "except <excepción>:\n",
    "    <sentencias(s) si excepción>\n",
    "```"
   ]
  },
  {
   "cell_type": "code",
   "execution_count": null,
   "id": "4f3784f6",
   "metadata": {},
   "outputs": [],
   "source": []
  },
  {
   "cell_type": "code",
   "execution_count": null,
   "id": "4e0be4a2",
   "metadata": {},
   "outputs": [],
   "source": []
  },
  {
   "cell_type": "code",
   "execution_count": null,
   "id": "03cc966a",
   "metadata": {},
   "outputs": [],
   "source": []
  },
  {
   "cell_type": "markdown",
   "id": "3033e104",
   "metadata": {},
   "source": [
    "Debemos tener en cuenta que el las sentencias de código que se encuentren en el cuerpo de la sentencia `try` y a continuación de la sentencia que emite la excepción, no se ejecutarán"
   ]
  },
  {
   "cell_type": "code",
   "execution_count": null,
   "id": "16d05a91",
   "metadata": {},
   "outputs": [],
   "source": []
  },
  {
   "cell_type": "markdown",
   "id": "3dd0a0cf",
   "metadata": {},
   "source": [
    "También podemos utilizar la sentencia `except` sin indicarle el nombre de ninguna excepción, en estos casos capturará todas las excepciones que se produzcan en el código que se encuentra en el cuerpo de la sentencia `try`"
   ]
  },
  {
   "cell_type": "code",
   "execution_count": null,
   "id": "48afde16",
   "metadata": {},
   "outputs": [],
   "source": []
  },
  {
   "cell_type": "markdown",
   "id": "3be4f466",
   "metadata": {},
   "source": [
    "Adicionalmente a la sintaxis anterior, podemos capturar varias excepciones de manera simultánea utilizando varias cláusulas `except`"
   ]
  },
  {
   "cell_type": "code",
   "execution_count": null,
   "id": "cfaafa91",
   "metadata": {},
   "outputs": [],
   "source": []
  },
  {
   "cell_type": "markdown",
   "id": "18c292e4",
   "metadata": {},
   "source": [
    "Por último, podemos asignar el objeto excepción capturado a una variable y utilizarlos para mostrar más información al respecto."
   ]
  },
  {
   "cell_type": "code",
   "execution_count": null,
   "id": "6bc5bae1",
   "metadata": {},
   "outputs": [],
   "source": []
  },
  {
   "cell_type": "markdown",
   "id": "99548108",
   "metadata": {},
   "source": [
    "### 4. Lanzando excepciones personalizadas"
   ]
  },
  {
   "cell_type": "markdown",
   "id": "70feb2f3",
   "metadata": {},
   "source": [
    "Además de las sentencias anteriores que podemos utilizar para controlar excepciones, Python nos proporciona la sentencia `raise` con la que podemos emitir nuestras propias excepciones. Para ello, debemos utilizar la clase por defecto de Python `Exception`"
   ]
  },
  {
   "cell_type": "code",
   "execution_count": null,
   "id": "d412e7a9",
   "metadata": {},
   "outputs": [],
   "source": []
  },
  {
   "cell_type": "code",
   "execution_count": null,
   "id": "ab3994e0",
   "metadata": {},
   "outputs": [],
   "source": []
  },
  {
   "cell_type": "code",
   "execution_count": null,
   "id": "e7bf9ee3",
   "metadata": {},
   "outputs": [],
   "source": []
  },
  {
   "cell_type": "markdown",
   "id": "8f41d80a",
   "metadata": {},
   "source": [
    "### 5. Excepción `AssertionError`"
   ]
  },
  {
   "cell_type": "markdown",
   "id": "a3f79fad",
   "metadata": {},
   "source": [
    "Como complemento a todas las sentencias anteriores, Python nos proporciona una sentencia adicional que nos permite verificar en un punto determinado de nuestro programa que todo esta funcionando adecuadamente, esta sentencia es `assert`."
   ]
  },
  {
   "cell_type": "code",
   "execution_count": null,
   "id": "57eedf5d",
   "metadata": {},
   "outputs": [],
   "source": []
  },
  {
   "cell_type": "markdown",
   "id": "a717e6f3",
   "metadata": {},
   "source": [
    "### 6. Cláusula `else` en excepciones"
   ]
  },
  {
   "cell_type": "markdown",
   "id": "a6c4ba89",
   "metadata": {},
   "source": [
    "Curiosamente, Python nos proporciona un mecanismo por el cual utilizando la sentencia `else`, se puede indicar a un programa que ejecute un determinado bloque de código sólo en ausencia de excepciones."
   ]
  },
  {
   "cell_type": "code",
   "execution_count": null,
   "id": "6e5105f0",
   "metadata": {},
   "outputs": [],
   "source": []
  },
  {
   "cell_type": "markdown",
   "id": "9087c54f",
   "metadata": {},
   "source": [
    "### 7. Sentencia `finally`"
   ]
  },
  {
   "cell_type": "markdown",
   "id": "ad751662",
   "metadata": {},
   "source": [
    "Python nos proporciona una última sentencia que podemos utilizar para realizar una \"limpieza\" después de la ejecución de nuestro código al gestionar una excepción. Esta sentencia se denomina `finally` y el código que se localice en su cuerpo, se ejcutará siempre, independientemente de si se produce o no la expcepción."
   ]
  },
  {
   "cell_type": "code",
   "execution_count": null,
   "id": "d9083431",
   "metadata": {},
   "outputs": [],
   "source": []
  },
  {
   "cell_type": "code",
   "execution_count": null,
   "id": "f95be2f3",
   "metadata": {},
   "outputs": [],
   "source": []
  },
  {
   "cell_type": "code",
   "execution_count": null,
   "id": "9d25eb2b",
   "metadata": {},
   "outputs": [],
   "source": []
  },
  {
   "cell_type": "code",
   "execution_count": null,
   "id": "219f0d86",
   "metadata": {},
   "outputs": [],
   "source": []
  }
 ],
 "metadata": {
  "kernelspec": {
   "display_name": "Python 3 (ipykernel)",
   "language": "python",
   "name": "python3"
  },
  "language_info": {
   "codemirror_mode": {
    "name": "ipython",
    "version": 3
   },
   "file_extension": ".py",
   "mimetype": "text/x-python",
   "name": "python",
   "nbconvert_exporter": "python",
   "pygments_lexer": "ipython3",
   "version": "3.11.5"
  }
 },
 "nbformat": 4,
 "nbformat_minor": 5
}
